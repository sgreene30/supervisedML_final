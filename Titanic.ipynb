{
 "cells": [
  {
   "cell_type": "markdown",
   "id": "42de4a6b",
   "metadata": {},
   "source": [
    "## Supervised Learning Final Project\n",
    "\n",
    "### Kaggle Titanic Competition\n",
    "\n",
    "### Author: Samuel Greene\n",
    "\n",
    "This project attempts to predict whether certain people aboard the Titanic survived the journey. For more information see: https://www.kaggle.com/competitions/titanic/overview"
   ]
  },
  {
   "cell_type": "code",
   "execution_count": 244,
   "id": "2e40ee19",
   "metadata": {},
   "outputs": [],
   "source": [
    "import pandas as pd\n",
    "import numpy as np\n",
    "from sklearn import preprocessing\n",
    "from sklearn.model_selection import train_test_split\n",
    "from sklearn.ensemble import GradientBoostingClassifier, RandomForestClassifier, VotingClassifier\n",
    "from sklearn.neighbors import KNeighborsClassifier\n",
    "from sklearn.linear_model import LogisticRegression\n",
    "from sklearn.model_selection import cross_val_score, GridSearchCV\n",
    "from sklearn.metrics import f1_score, confusion_matrix, accuracy_score, ConfusionMatrixDisplay\n",
    "from sklearn.metrics import roc_auc_score, roc_curve, RocCurveDisplay, auc\n",
    "from sklearn.svm import SVC\n",
    "import warnings\n",
    "warnings.filterwarnings('ignore')"
   ]
  },
  {
   "cell_type": "markdown",
   "id": "1c91238f",
   "metadata": {},
   "source": [
    "### Importing Data\n",
    "\n",
    "First I will import the train and test CSV files into a dataframe. We see below all of the features and notice that several have null values. "
   ]
  },
  {
   "cell_type": "code",
   "execution_count": 245,
   "id": "47f485e7",
   "metadata": {},
   "outputs": [
    {
     "data": {
      "text/html": [
       "<div>\n",
       "<style scoped>\n",
       "    .dataframe tbody tr th:only-of-type {\n",
       "        vertical-align: middle;\n",
       "    }\n",
       "\n",
       "    .dataframe tbody tr th {\n",
       "        vertical-align: top;\n",
       "    }\n",
       "\n",
       "    .dataframe thead th {\n",
       "        text-align: right;\n",
       "    }\n",
       "</style>\n",
       "<table border=\"1\" class=\"dataframe\">\n",
       "  <thead>\n",
       "    <tr style=\"text-align: right;\">\n",
       "      <th></th>\n",
       "      <th>PassengerId</th>\n",
       "      <th>Survived</th>\n",
       "      <th>Pclass</th>\n",
       "      <th>Name</th>\n",
       "      <th>Sex</th>\n",
       "      <th>Age</th>\n",
       "      <th>SibSp</th>\n",
       "      <th>Parch</th>\n",
       "      <th>Ticket</th>\n",
       "      <th>Fare</th>\n",
       "      <th>Cabin</th>\n",
       "      <th>Embarked</th>\n",
       "    </tr>\n",
       "  </thead>\n",
       "  <tbody>\n",
       "    <tr>\n",
       "      <th>0</th>\n",
       "      <td>1</td>\n",
       "      <td>0</td>\n",
       "      <td>3</td>\n",
       "      <td>Braund, Mr. Owen Harris</td>\n",
       "      <td>male</td>\n",
       "      <td>22.0</td>\n",
       "      <td>1</td>\n",
       "      <td>0</td>\n",
       "      <td>A/5 21171</td>\n",
       "      <td>7.2500</td>\n",
       "      <td>NaN</td>\n",
       "      <td>S</td>\n",
       "    </tr>\n",
       "    <tr>\n",
       "      <th>1</th>\n",
       "      <td>2</td>\n",
       "      <td>1</td>\n",
       "      <td>1</td>\n",
       "      <td>Cumings, Mrs. John Bradley (Florence Briggs Th...</td>\n",
       "      <td>female</td>\n",
       "      <td>38.0</td>\n",
       "      <td>1</td>\n",
       "      <td>0</td>\n",
       "      <td>PC 17599</td>\n",
       "      <td>71.2833</td>\n",
       "      <td>C85</td>\n",
       "      <td>C</td>\n",
       "    </tr>\n",
       "    <tr>\n",
       "      <th>2</th>\n",
       "      <td>3</td>\n",
       "      <td>1</td>\n",
       "      <td>3</td>\n",
       "      <td>Heikkinen, Miss. Laina</td>\n",
       "      <td>female</td>\n",
       "      <td>26.0</td>\n",
       "      <td>0</td>\n",
       "      <td>0</td>\n",
       "      <td>STON/O2. 3101282</td>\n",
       "      <td>7.9250</td>\n",
       "      <td>NaN</td>\n",
       "      <td>S</td>\n",
       "    </tr>\n",
       "    <tr>\n",
       "      <th>3</th>\n",
       "      <td>4</td>\n",
       "      <td>1</td>\n",
       "      <td>1</td>\n",
       "      <td>Futrelle, Mrs. Jacques Heath (Lily May Peel)</td>\n",
       "      <td>female</td>\n",
       "      <td>35.0</td>\n",
       "      <td>1</td>\n",
       "      <td>0</td>\n",
       "      <td>113803</td>\n",
       "      <td>53.1000</td>\n",
       "      <td>C123</td>\n",
       "      <td>S</td>\n",
       "    </tr>\n",
       "    <tr>\n",
       "      <th>4</th>\n",
       "      <td>5</td>\n",
       "      <td>0</td>\n",
       "      <td>3</td>\n",
       "      <td>Allen, Mr. William Henry</td>\n",
       "      <td>male</td>\n",
       "      <td>35.0</td>\n",
       "      <td>0</td>\n",
       "      <td>0</td>\n",
       "      <td>373450</td>\n",
       "      <td>8.0500</td>\n",
       "      <td>NaN</td>\n",
       "      <td>S</td>\n",
       "    </tr>\n",
       "  </tbody>\n",
       "</table>\n",
       "</div>"
      ],
      "text/plain": [
       "   PassengerId  Survived  Pclass  \\\n",
       "0            1         0       3   \n",
       "1            2         1       1   \n",
       "2            3         1       3   \n",
       "3            4         1       1   \n",
       "4            5         0       3   \n",
       "\n",
       "                                                Name     Sex   Age  SibSp  \\\n",
       "0                            Braund, Mr. Owen Harris    male  22.0      1   \n",
       "1  Cumings, Mrs. John Bradley (Florence Briggs Th...  female  38.0      1   \n",
       "2                             Heikkinen, Miss. Laina  female  26.0      0   \n",
       "3       Futrelle, Mrs. Jacques Heath (Lily May Peel)  female  35.0      1   \n",
       "4                           Allen, Mr. William Henry    male  35.0      0   \n",
       "\n",
       "   Parch            Ticket     Fare Cabin Embarked  \n",
       "0      0         A/5 21171   7.2500   NaN        S  \n",
       "1      0          PC 17599  71.2833   C85        C  \n",
       "2      0  STON/O2. 3101282   7.9250   NaN        S  \n",
       "3      0            113803  53.1000  C123        S  \n",
       "4      0            373450   8.0500   NaN        S  "
      ]
     },
     "execution_count": 245,
     "metadata": {},
     "output_type": "execute_result"
    }
   ],
   "source": [
    "df = pd.read_csv('train.csv')\n",
    "test_df = pd.read_csv('test.csv')\n",
    "df.head()"
   ]
  },
  {
   "cell_type": "code",
   "execution_count": 246,
   "id": "3b994777",
   "metadata": {},
   "outputs": [
    {
     "name": "stdout",
     "output_type": "stream",
     "text": [
      "<class 'pandas.core.frame.DataFrame'>\n",
      "RangeIndex: 891 entries, 0 to 890\n",
      "Data columns (total 12 columns):\n",
      " #   Column       Non-Null Count  Dtype  \n",
      "---  ------       --------------  -----  \n",
      " 0   PassengerId  891 non-null    int64  \n",
      " 1   Survived     891 non-null    int64  \n",
      " 2   Pclass       891 non-null    int64  \n",
      " 3   Name         891 non-null    object \n",
      " 4   Sex          891 non-null    object \n",
      " 5   Age          714 non-null    float64\n",
      " 6   SibSp        891 non-null    int64  \n",
      " 7   Parch        891 non-null    int64  \n",
      " 8   Ticket       891 non-null    object \n",
      " 9   Fare         891 non-null    float64\n",
      " 10  Cabin        204 non-null    object \n",
      " 11  Embarked     889 non-null    object \n",
      "dtypes: float64(2), int64(5), object(5)\n",
      "memory usage: 83.7+ KB\n"
     ]
    }
   ],
   "source": [
    "df.info()"
   ]
  },
  {
   "cell_type": "code",
   "execution_count": 247,
   "id": "fcc69c5a",
   "metadata": {},
   "outputs": [
    {
     "name": "stdout",
     "output_type": "stream",
     "text": [
      "<class 'pandas.core.frame.DataFrame'>\n",
      "RangeIndex: 418 entries, 0 to 417\n",
      "Data columns (total 11 columns):\n",
      " #   Column       Non-Null Count  Dtype  \n",
      "---  ------       --------------  -----  \n",
      " 0   PassengerId  418 non-null    int64  \n",
      " 1   Pclass       418 non-null    int64  \n",
      " 2   Name         418 non-null    object \n",
      " 3   Sex          418 non-null    object \n",
      " 4   Age          332 non-null    float64\n",
      " 5   SibSp        418 non-null    int64  \n",
      " 6   Parch        418 non-null    int64  \n",
      " 7   Ticket       418 non-null    object \n",
      " 8   Fare         417 non-null    float64\n",
      " 9   Cabin        91 non-null     object \n",
      " 10  Embarked     418 non-null    object \n",
      "dtypes: float64(2), int64(4), object(5)\n",
      "memory usage: 36.0+ KB\n"
     ]
    }
   ],
   "source": [
    "test_df.info()"
   ]
  },
  {
   "cell_type": "markdown",
   "id": "ff90852a",
   "metadata": {},
   "source": [
    "#### Features\n",
    "\n",
    "* PassengerId = a numeric identifier assigned to each passenger\n",
    "* Survived = the target where a 1 indicates survival and 0 indicates otherwise\n",
    "* Pclass = the class of ticket 1st, 2nd or 3rd\n",
    "* Name = passenger name\n",
    "* Sex = Male/Female\n",
    "* Age = passenger age\n",
    "* SibSp = # of siblings or spouses onboard that the passenger has\n",
    "* Parch = # of parents or children onboard the passenger has\n",
    "* Ticket = alphanumeric ticket number\n",
    "* Fare = cost of ticket\n",
    "* Cabin = which part of the ship the passenger was on\n",
    "* Embarked = where the passenger boarded the ship"
   ]
  },
  {
   "cell_type": "markdown",
   "id": "fa84b723",
   "metadata": {},
   "source": [
    "### Filling Null Values and Feature Engineering\n",
    "\n",
    "Below I impute missing values for entries with Nulls\n",
    "\n",
    "\n",
    "**Embarked**\n",
    "\n",
    "Since there are only two missing values in the train data set we will attempt to impute them manually by looking at the names."
   ]
  },
  {
   "cell_type": "code",
   "execution_count": 248,
   "id": "7b09ab0d",
   "metadata": {},
   "outputs": [
    {
     "name": "stdout",
     "output_type": "stream",
     "text": [
      "     PassengerId  Survived  Pclass                                       Name  \\\n",
      "61            62         1       1                        Icard, Miss. Amelie   \n",
      "829          830         1       1  Stone, Mrs. George Nelson (Martha Evelyn)   \n",
      "\n",
      "        Sex   Age  SibSp  Parch  Ticket  Fare Cabin Embarked  \n",
      "61   female  38.0      0      0  113572  80.0   B28      NaN  \n",
      "829  female  62.0      0      0  113572  80.0   B28      NaN  \n"
     ]
    },
    {
     "data": {
      "text/plain": [
       "S    644\n",
       "C    168\n",
       "Q     77\n",
       "Name: Embarked, dtype: int64"
      ]
     },
     "execution_count": 248,
     "metadata": {},
     "output_type": "execute_result"
    }
   ],
   "source": [
    "print(df.loc[[61,829],:])\n",
    "df['Embarked'].value_counts()"
   ]
  },
  {
   "cell_type": "markdown",
   "id": "aafd1743",
   "metadata": {},
   "source": [
    "Since the first name appears to be French we will assign C for Cherbourgh. The second name is less obvious so we will assign S since it occurs most frequently."
   ]
  },
  {
   "cell_type": "code",
   "execution_count": 249,
   "id": "9ca9118c",
   "metadata": {},
   "outputs": [],
   "source": [
    "df.at[61, \"Embarked\"] = \"C\" \n",
    "df.at[829, \"Embarked\"] = \"S\" "
   ]
  },
  {
   "cell_type": "markdown",
   "id": "e4753f05",
   "metadata": {},
   "source": [
    "**Fare**\n",
    "\n",
    "We have only one missing value for Fare so we will just replace with the mean."
   ]
  },
  {
   "cell_type": "code",
   "execution_count": 250,
   "id": "7526ceec",
   "metadata": {},
   "outputs": [],
   "source": [
    "df['Fare'].fillna(np.mean(df['Fare']), inplace=True)\n",
    "test_df['Fare'].fillna(np.mean(df['Fare']), inplace=True)"
   ]
  },
  {
   "cell_type": "markdown",
   "id": "06b9027d",
   "metadata": {},
   "source": [
    "**Cabin**\n",
    "\n",
    "Since there are many mising values for Cabin we will not attempt to impute missing values. Instead a value of unknown is added if Cabin is null. We also seek to extract only the letter of the Cabin and ignore the numbers."
   ]
  },
  {
   "cell_type": "code",
   "execution_count": 251,
   "id": "1fbcb891",
   "metadata": {},
   "outputs": [],
   "source": [
    "df['Cabin'].fillna(value = 'unknown', inplace=True)\n",
    "test_df['Cabin'].fillna(value='unknown', inplace=True)\n",
    "\n",
    "def cabin(cab, letters):\n",
    "    for letter in letters:\n",
    "        if letter in cab:\n",
    "            return letter\n",
    "    return None\n",
    "\n",
    "letters = ['A', 'B', 'C', 'D', 'E', 'F', 'G']\n",
    "\n",
    "df['Cabin'] = df['Cabin'].map(lambda x: cabin(x, letters))\n",
    "test_df['Cabin'] = test_df['Cabin'].map(lambda x: cabin(x, letters))"
   ]
  },
  {
   "cell_type": "markdown",
   "id": "991e546c",
   "metadata": {},
   "source": [
    "**Age and Title Feature Extraction**\n",
    "\n",
    "Below we impute the missing age values, but before we will extract titles from an individuals name to help. The most common titles were Mr, Master, Mrs, and Miss. There were many other titles, but they occured very infrequently. Below I classify everyone into one of the four most common titles by age. "
   ]
  },
  {
   "cell_type": "code",
   "execution_count": 252,
   "id": "b6fd4c14",
   "metadata": {},
   "outputs": [
    {
     "data": {
      "text/plain": [
       "Mr        537\n",
       "Miss      180\n",
       "Mrs       134\n",
       "Master     40\n",
       "Name: Title, dtype: int64"
      ]
     },
     "execution_count": 252,
     "metadata": {},
     "output_type": "execute_result"
    }
   ],
   "source": [
    "def title(name, titles):\n",
    "    for title in titles:\n",
    "        if title in name:\n",
    "            return title\n",
    "    return None\n",
    "\n",
    "title_list = ['Mrs', 'Mr', 'Miss', 'Master']\n",
    "\n",
    "df['Title'] = df['Name'].map(lambda x: title(x, title_list))\n",
    "test_df['Title'] = test_df['Name'].map(lambda x: title(x, title_list))\n",
    "\n",
    "def impute_Nones(x):\n",
    "    if pd.isnull(x['Title']):\n",
    "        if x['Sex'] == 'male':\n",
    "            if x['Age'] <= 12:\n",
    "                return 'Master'\n",
    "            else:\n",
    "                return 'Mr'\n",
    "        elif x['Sex'] == 'female':\n",
    "            if x['Age'] >= 23:\n",
    "                return 'Mrs'\n",
    "            else:\n",
    "                return 'Miss'\n",
    "    else:\n",
    "        return x['Title']\n",
    "\n",
    "df['Title'] = df.apply(impute_Nones, axis=1)\n",
    "test_df['Title'] = df.apply(impute_Nones, axis=1)\n",
    "\n",
    "\n",
    "df['Title'].value_counts()"
   ]
  },
  {
   "cell_type": "markdown",
   "id": "6760794a",
   "metadata": {},
   "source": [
    "**Imputing Age**\n",
    "\n",
    "Now that everyone has a title we will calculate the mean age of each title and use that to impute missing values."
   ]
  },
  {
   "cell_type": "code",
   "execution_count": 253,
   "id": "6e48a12b",
   "metadata": {},
   "outputs": [
    {
     "name": "stdout",
     "output_type": "stream",
     "text": [
      "mrs_mean_age: 35.47008547008547\n",
      "mr_mean_age: 32.98441247002398\n",
      "miss_mean_age: 21.77777777777778\n",
      "master_mean_age: 4.574166666666667\n"
     ]
    }
   ],
   "source": [
    "mrs = df.loc[df['Title'] == 'Mrs']\n",
    "mrs_mean_age = np.mean(mrs['Age'])\n",
    "\n",
    "mr = df.loc[df['Title'] == 'Mr']\n",
    "mr_mean_age = np.mean(mr['Age'])\n",
    "\n",
    "miss = df.loc[df['Title'] == 'Miss']\n",
    "miss_mean_age = np.mean(miss['Age'])\n",
    "\n",
    "master = df.loc[df['Title'] == 'Master']\n",
    "master_mean_age = np.mean(master['Age'])\n",
    "\n",
    "print('mrs_mean_age:', mrs_mean_age)\n",
    "print('mr_mean_age:', mr_mean_age)\n",
    "print('miss_mean_age:', miss_mean_age)\n",
    "print('master_mean_age:', master_mean_age)\n"
   ]
  },
  {
   "cell_type": "code",
   "execution_count": 254,
   "id": "7f6c110c",
   "metadata": {},
   "outputs": [],
   "source": [
    "def impute_ages(x):\n",
    "    if pd.isnull(x['Age']):\n",
    "        if x['Title'] == 'Mrs':\n",
    "            return 35\n",
    "        elif x['Title'] == 'Master':\n",
    "            return 4.5\n",
    "        elif x['Title'] == 'Miss':\n",
    "            return 22\n",
    "        else:\n",
    "            return 33\n",
    "    else:\n",
    "        return x['Age']\n",
    "\n",
    "df['Age'] = df.apply(impute_ages, axis=1)\n",
    "test_df['Age'] = df.apply(impute_ages, axis=1)"
   ]
  },
  {
   "cell_type": "code",
   "execution_count": 255,
   "id": "1461392f",
   "metadata": {},
   "outputs": [],
   "source": [
    "def get_family_size(x):\n",
    "    family_size = x['SibSp'] + x['Parch']\n",
    "    return family_size\n",
    "\n",
    "df['FamilySize'] = df.apply(get_family_size, axis=1)\n",
    "test_df['FamilySize'] = df.apply(get_family_size, axis=1)"
   ]
  },
  {
   "cell_type": "markdown",
   "id": "d0a6cfd4",
   "metadata": {},
   "source": [
    "**Fare**\n",
    "We see that Fare is quite skewed so I take the log"
   ]
  },
  {
   "cell_type": "code",
   "execution_count": 256,
   "id": "2481ddd2",
   "metadata": {},
   "outputs": [
    {
     "data": {
      "text/plain": [
       "<AxesSubplot:>"
      ]
     },
     "execution_count": 256,
     "metadata": {},
     "output_type": "execute_result"
    },
    {
     "data": {
      "image/png": "[encoded data removed]",
      "text/plain": [
       "<Figure size 640x480 with 1 Axes>"
      ]
     },
     "metadata": {},
     "output_type": "display_data"
    }
   ],
   "source": [
    "df['Fare'].hist(bins = 50)"
   ]
  },
  {
   "cell_type": "code",
   "execution_count": 257,
   "id": "a4976bf4",
   "metadata": {},
   "outputs": [
    {
     "data": {
      "text/plain": [
       "<AxesSubplot:>"
      ]
     },
     "execution_count": 257,
     "metadata": {},
     "output_type": "execute_result"
    },
    {
     "data": {
      "image/png": "[encoded data removed]",
      "text/plain": [
       "<Figure size 640x480 with 1 Axes>"
      ]
     },
     "metadata": {},
     "output_type": "display_data"
    }
   ],
   "source": [
    "df['Fare'] = df['Fare'].map(lambda x: np.log(x) if x > 0 else 0)\n",
    "test_df['Fare'] = test_df['Fare'].map(lambda x: np.log(x) if x > 0 else 0)\n",
    "df['Fare'].hist(bins = 50)"
   ]
  },
  {
   "cell_type": "markdown",
   "id": "926118f7",
   "metadata": {},
   "source": [
    "### Encoding Features\n",
    "\n",
    "Below we enocode the features to numeric so that they can be fed to the models. The Title column will later be dropped which is discussed below so it will not be encoded."
   ]
  },
  {
   "cell_type": "code",
   "execution_count": 258,
   "id": "f6fabd74",
   "metadata": {},
   "outputs": [
    {
     "data": {
      "text/html": [
       "<div>\n",
       "<style scoped>\n",
       "    .dataframe tbody tr th:only-of-type {\n",
       "        vertical-align: middle;\n",
       "    }\n",
       "\n",
       "    .dataframe tbody tr th {\n",
       "        vertical-align: top;\n",
       "    }\n",
       "\n",
       "    .dataframe thead th {\n",
       "        text-align: right;\n",
       "    }\n",
       "</style>\n",
       "<table border=\"1\" class=\"dataframe\">\n",
       "  <thead>\n",
       "    <tr style=\"text-align: right;\">\n",
       "      <th></th>\n",
       "      <th>PassengerId</th>\n",
       "      <th>Survived</th>\n",
       "      <th>Pclass</th>\n",
       "      <th>Name</th>\n",
       "      <th>Sex</th>\n",
       "      <th>Age</th>\n",
       "      <th>SibSp</th>\n",
       "      <th>Parch</th>\n",
       "      <th>Ticket</th>\n",
       "      <th>Fare</th>\n",
       "      <th>...</th>\n",
       "      <th>Embarked_C</th>\n",
       "      <th>Embarked_Q</th>\n",
       "      <th>Embarked_S</th>\n",
       "      <th>Cabin_A</th>\n",
       "      <th>Cabin_B</th>\n",
       "      <th>Cabin_C</th>\n",
       "      <th>Cabin_D</th>\n",
       "      <th>Cabin_E</th>\n",
       "      <th>Cabin_F</th>\n",
       "      <th>Cabin_G</th>\n",
       "    </tr>\n",
       "  </thead>\n",
       "  <tbody>\n",
       "    <tr>\n",
       "      <th>0</th>\n",
       "      <td>1</td>\n",
       "      <td>0</td>\n",
       "      <td>3</td>\n",
       "      <td>Braund, Mr. Owen Harris</td>\n",
       "      <td>male</td>\n",
       "      <td>22.0</td>\n",
       "      <td>1</td>\n",
       "      <td>0</td>\n",
       "      <td>A/5 21171</td>\n",
       "      <td>1.981001</td>\n",
       "      <td>...</td>\n",
       "      <td>0</td>\n",
       "      <td>0</td>\n",
       "      <td>1</td>\n",
       "      <td>0</td>\n",
       "      <td>0</td>\n",
       "      <td>0</td>\n",
       "      <td>0</td>\n",
       "      <td>0</td>\n",
       "      <td>0</td>\n",
       "      <td>0</td>\n",
       "    </tr>\n",
       "    <tr>\n",
       "      <th>1</th>\n",
       "      <td>2</td>\n",
       "      <td>1</td>\n",
       "      <td>1</td>\n",
       "      <td>Cumings, Mrs. John Bradley (Florence Briggs Th...</td>\n",
       "      <td>female</td>\n",
       "      <td>38.0</td>\n",
       "      <td>1</td>\n",
       "      <td>0</td>\n",
       "      <td>PC 17599</td>\n",
       "      <td>4.266662</td>\n",
       "      <td>...</td>\n",
       "      <td>1</td>\n",
       "      <td>0</td>\n",
       "      <td>0</td>\n",
       "      <td>0</td>\n",
       "      <td>0</td>\n",
       "      <td>1</td>\n",
       "      <td>0</td>\n",
       "      <td>0</td>\n",
       "      <td>0</td>\n",
       "      <td>0</td>\n",
       "    </tr>\n",
       "    <tr>\n",
       "      <th>2</th>\n",
       "      <td>3</td>\n",
       "      <td>1</td>\n",
       "      <td>3</td>\n",
       "      <td>Heikkinen, Miss. Laina</td>\n",
       "      <td>female</td>\n",
       "      <td>26.0</td>\n",
       "      <td>0</td>\n",
       "      <td>0</td>\n",
       "      <td>STON/O2. 3101282</td>\n",
       "      <td>2.070022</td>\n",
       "      <td>...</td>\n",
       "      <td>0</td>\n",
       "      <td>0</td>\n",
       "      <td>1</td>\n",
       "      <td>0</td>\n",
       "      <td>0</td>\n",
       "      <td>0</td>\n",
       "      <td>0</td>\n",
       "      <td>0</td>\n",
       "      <td>0</td>\n",
       "      <td>0</td>\n",
       "    </tr>\n",
       "    <tr>\n",
       "      <th>3</th>\n",
       "      <td>4</td>\n",
       "      <td>1</td>\n",
       "      <td>1</td>\n",
       "      <td>Futrelle, Mrs. Jacques Heath (Lily May Peel)</td>\n",
       "      <td>female</td>\n",
       "      <td>35.0</td>\n",
       "      <td>1</td>\n",
       "      <td>0</td>\n",
       "      <td>113803</td>\n",
       "      <td>3.972177</td>\n",
       "      <td>...</td>\n",
       "      <td>0</td>\n",
       "      <td>0</td>\n",
       "      <td>1</td>\n",
       "      <td>0</td>\n",
       "      <td>0</td>\n",
       "      <td>1</td>\n",
       "      <td>0</td>\n",
       "      <td>0</td>\n",
       "      <td>0</td>\n",
       "      <td>0</td>\n",
       "    </tr>\n",
       "    <tr>\n",
       "      <th>4</th>\n",
       "      <td>5</td>\n",
       "      <td>0</td>\n",
       "      <td>3</td>\n",
       "      <td>Allen, Mr. William Henry</td>\n",
       "      <td>male</td>\n",
       "      <td>35.0</td>\n",
       "      <td>0</td>\n",
       "      <td>0</td>\n",
       "      <td>373450</td>\n",
       "      <td>2.085672</td>\n",
       "      <td>...</td>\n",
       "      <td>0</td>\n",
       "      <td>0</td>\n",
       "      <td>1</td>\n",
       "      <td>0</td>\n",
       "      <td>0</td>\n",
       "      <td>0</td>\n",
       "      <td>0</td>\n",
       "      <td>0</td>\n",
       "      <td>0</td>\n",
       "      <td>0</td>\n",
       "    </tr>\n",
       "  </tbody>\n",
       "</table>\n",
       "<p>5 rows × 22 columns</p>\n",
       "</div>"
      ],
      "text/plain": [
       "   PassengerId  Survived  Pclass  \\\n",
       "0            1         0       3   \n",
       "1            2         1       1   \n",
       "2            3         1       3   \n",
       "3            4         1       1   \n",
       "4            5         0       3   \n",
       "\n",
       "                                                Name     Sex   Age  SibSp  \\\n",
       "0                            Braund, Mr. Owen Harris    male  22.0      1   \n",
       "1  Cumings, Mrs. John Bradley (Florence Briggs Th...  female  38.0      1   \n",
       "2                             Heikkinen, Miss. Laina  female  26.0      0   \n",
       "3       Futrelle, Mrs. Jacques Heath (Lily May Peel)  female  35.0      1   \n",
       "4                           Allen, Mr. William Henry    male  35.0      0   \n",
       "\n",
       "   Parch            Ticket      Fare  ... Embarked_C  Embarked_Q  Embarked_S  \\\n",
       "0      0         A/5 21171  1.981001  ...          0           0           1   \n",
       "1      0          PC 17599  4.266662  ...          1           0           0   \n",
       "2      0  STON/O2. 3101282  2.070022  ...          0           0           1   \n",
       "3      0            113803  3.972177  ...          0           0           1   \n",
       "4      0            373450  2.085672  ...          0           0           1   \n",
       "\n",
       "   Cabin_A  Cabin_B  Cabin_C  Cabin_D  Cabin_E  Cabin_F  Cabin_G  \n",
       "0        0        0        0        0        0        0        0  \n",
       "1        0        0        1        0        0        0        0  \n",
       "2        0        0        0        0        0        0        0  \n",
       "3        0        0        1        0        0        0        0  \n",
       "4        0        0        0        0        0        0        0  \n",
       "\n",
       "[5 rows x 22 columns]"
      ]
     },
     "execution_count": 258,
     "metadata": {},
     "output_type": "execute_result"
    }
   ],
   "source": [
    "df = pd.get_dummies(df, columns = ['Embarked', 'Cabin'])\n",
    "test_df = pd.get_dummies(test_df, columns = ['Embarked', 'Cabin'])\n",
    "df.head()"
   ]
  },
  {
   "cell_type": "code",
   "execution_count": 259,
   "id": "60f4429c",
   "metadata": {},
   "outputs": [
    {
     "data": {
      "text/html": [
       "<div>\n",
       "<style scoped>\n",
       "    .dataframe tbody tr th:only-of-type {\n",
       "        vertical-align: middle;\n",
       "    }\n",
       "\n",
       "    .dataframe tbody tr th {\n",
       "        vertical-align: top;\n",
       "    }\n",
       "\n",
       "    .dataframe thead th {\n",
       "        text-align: right;\n",
       "    }\n",
       "</style>\n",
       "<table border=\"1\" class=\"dataframe\">\n",
       "  <thead>\n",
       "    <tr style=\"text-align: right;\">\n",
       "      <th></th>\n",
       "      <th>PassengerId</th>\n",
       "      <th>Pclass</th>\n",
       "      <th>Name</th>\n",
       "      <th>Sex</th>\n",
       "      <th>Age</th>\n",
       "      <th>SibSp</th>\n",
       "      <th>Parch</th>\n",
       "      <th>Ticket</th>\n",
       "      <th>Fare</th>\n",
       "      <th>Title</th>\n",
       "      <th>...</th>\n",
       "      <th>Embarked_C</th>\n",
       "      <th>Embarked_Q</th>\n",
       "      <th>Embarked_S</th>\n",
       "      <th>Cabin_A</th>\n",
       "      <th>Cabin_B</th>\n",
       "      <th>Cabin_C</th>\n",
       "      <th>Cabin_D</th>\n",
       "      <th>Cabin_E</th>\n",
       "      <th>Cabin_F</th>\n",
       "      <th>Cabin_G</th>\n",
       "    </tr>\n",
       "  </thead>\n",
       "  <tbody>\n",
       "    <tr>\n",
       "      <th>0</th>\n",
       "      <td>892</td>\n",
       "      <td>3</td>\n",
       "      <td>Kelly, Mr. James</td>\n",
       "      <td>1</td>\n",
       "      <td>22.0</td>\n",
       "      <td>0</td>\n",
       "      <td>0</td>\n",
       "      <td>330911</td>\n",
       "      <td>2.057860</td>\n",
       "      <td>Mr</td>\n",
       "      <td>...</td>\n",
       "      <td>0</td>\n",
       "      <td>1</td>\n",
       "      <td>0</td>\n",
       "      <td>0</td>\n",
       "      <td>0</td>\n",
       "      <td>0</td>\n",
       "      <td>0</td>\n",
       "      <td>0</td>\n",
       "      <td>0</td>\n",
       "      <td>0</td>\n",
       "    </tr>\n",
       "    <tr>\n",
       "      <th>1</th>\n",
       "      <td>893</td>\n",
       "      <td>3</td>\n",
       "      <td>Wilkes, Mrs. James (Ellen Needs)</td>\n",
       "      <td>0</td>\n",
       "      <td>38.0</td>\n",
       "      <td>1</td>\n",
       "      <td>0</td>\n",
       "      <td>363272</td>\n",
       "      <td>1.945910</td>\n",
       "      <td>Mrs</td>\n",
       "      <td>...</td>\n",
       "      <td>0</td>\n",
       "      <td>0</td>\n",
       "      <td>1</td>\n",
       "      <td>0</td>\n",
       "      <td>0</td>\n",
       "      <td>0</td>\n",
       "      <td>0</td>\n",
       "      <td>0</td>\n",
       "      <td>0</td>\n",
       "      <td>0</td>\n",
       "    </tr>\n",
       "    <tr>\n",
       "      <th>2</th>\n",
       "      <td>894</td>\n",
       "      <td>2</td>\n",
       "      <td>Myles, Mr. Thomas Francis</td>\n",
       "      <td>1</td>\n",
       "      <td>26.0</td>\n",
       "      <td>0</td>\n",
       "      <td>0</td>\n",
       "      <td>240276</td>\n",
       "      <td>2.270836</td>\n",
       "      <td>Miss</td>\n",
       "      <td>...</td>\n",
       "      <td>0</td>\n",
       "      <td>1</td>\n",
       "      <td>0</td>\n",
       "      <td>0</td>\n",
       "      <td>0</td>\n",
       "      <td>0</td>\n",
       "      <td>0</td>\n",
       "      <td>0</td>\n",
       "      <td>0</td>\n",
       "      <td>0</td>\n",
       "    </tr>\n",
       "    <tr>\n",
       "      <th>3</th>\n",
       "      <td>895</td>\n",
       "      <td>3</td>\n",
       "      <td>Wirz, Mr. Albert</td>\n",
       "      <td>1</td>\n",
       "      <td>35.0</td>\n",
       "      <td>0</td>\n",
       "      <td>0</td>\n",
       "      <td>315154</td>\n",
       "      <td>2.159003</td>\n",
       "      <td>Mrs</td>\n",
       "      <td>...</td>\n",
       "      <td>0</td>\n",
       "      <td>0</td>\n",
       "      <td>1</td>\n",
       "      <td>0</td>\n",
       "      <td>0</td>\n",
       "      <td>0</td>\n",
       "      <td>0</td>\n",
       "      <td>0</td>\n",
       "      <td>0</td>\n",
       "      <td>0</td>\n",
       "    </tr>\n",
       "    <tr>\n",
       "      <th>4</th>\n",
       "      <td>896</td>\n",
       "      <td>3</td>\n",
       "      <td>Hirvonen, Mrs. Alexander (Helga E Lindqvist)</td>\n",
       "      <td>0</td>\n",
       "      <td>35.0</td>\n",
       "      <td>1</td>\n",
       "      <td>1</td>\n",
       "      <td>3101298</td>\n",
       "      <td>2.508582</td>\n",
       "      <td>Mr</td>\n",
       "      <td>...</td>\n",
       "      <td>0</td>\n",
       "      <td>0</td>\n",
       "      <td>1</td>\n",
       "      <td>0</td>\n",
       "      <td>0</td>\n",
       "      <td>0</td>\n",
       "      <td>0</td>\n",
       "      <td>0</td>\n",
       "      <td>0</td>\n",
       "      <td>0</td>\n",
       "    </tr>\n",
       "  </tbody>\n",
       "</table>\n",
       "<p>5 rows × 21 columns</p>\n",
       "</div>"
      ],
      "text/plain": [
       "   PassengerId  Pclass                                          Name  Sex  \\\n",
       "0          892       3                              Kelly, Mr. James    1   \n",
       "1          893       3              Wilkes, Mrs. James (Ellen Needs)    0   \n",
       "2          894       2                     Myles, Mr. Thomas Francis    1   \n",
       "3          895       3                              Wirz, Mr. Albert    1   \n",
       "4          896       3  Hirvonen, Mrs. Alexander (Helga E Lindqvist)    0   \n",
       "\n",
       "    Age  SibSp  Parch   Ticket      Fare Title  ...  Embarked_C  Embarked_Q  \\\n",
       "0  22.0      0      0   330911  2.057860    Mr  ...           0           1   \n",
       "1  38.0      1      0   363272  1.945910   Mrs  ...           0           0   \n",
       "2  26.0      0      0   240276  2.270836  Miss  ...           0           1   \n",
       "3  35.0      0      0   315154  2.159003   Mrs  ...           0           0   \n",
       "4  35.0      1      1  3101298  2.508582    Mr  ...           0           0   \n",
       "\n",
       "   Embarked_S  Cabin_A  Cabin_B  Cabin_C  Cabin_D  Cabin_E  Cabin_F  Cabin_G  \n",
       "0           0        0        0        0        0        0        0        0  \n",
       "1           1        0        0        0        0        0        0        0  \n",
       "2           0        0        0        0        0        0        0        0  \n",
       "3           1        0        0        0        0        0        0        0  \n",
       "4           1        0        0        0        0        0        0        0  \n",
       "\n",
       "[5 rows x 21 columns]"
      ]
     },
     "execution_count": 259,
     "metadata": {},
     "output_type": "execute_result"
    }
   ],
   "source": [
    "encoder = preprocessing.LabelEncoder()\n",
    "\n",
    "features = ['Sex']\n",
    "for feature in features:\n",
    "    df[feature] = encoder.fit_transform(df[feature])\n",
    "    test_df[feature] = encoder.fit_transform(test_df[feature])\n",
    "\n",
    "test_df.head()"
   ]
  },
  {
   "cell_type": "code",
   "execution_count": 261,
   "id": "5eaa1904",
   "metadata": {},
   "outputs": [
    {
     "name": "stdout",
     "output_type": "stream",
     "text": [
      "<class 'pandas.core.frame.DataFrame'>\n",
      "RangeIndex: 891 entries, 0 to 890\n",
      "Data columns (total 17 columns):\n",
      " #   Column      Non-Null Count  Dtype  \n",
      "---  ------      --------------  -----  \n",
      " 0   Pclass      891 non-null    int64  \n",
      " 1   Sex         891 non-null    int32  \n",
      " 2   Age         891 non-null    float64\n",
      " 3   SibSp       891 non-null    int64  \n",
      " 4   Parch       891 non-null    int64  \n",
      " 5   Fare        891 non-null    float64\n",
      " 6   FamilySize  891 non-null    int64  \n",
      " 7   Embarked_C  891 non-null    uint8  \n",
      " 8   Embarked_Q  891 non-null    uint8  \n",
      " 9   Embarked_S  891 non-null    uint8  \n",
      " 10  Cabin_A     891 non-null    uint8  \n",
      " 11  Cabin_B     891 non-null    uint8  \n",
      " 12  Cabin_C     891 non-null    uint8  \n",
      " 13  Cabin_D     891 non-null    uint8  \n",
      " 14  Cabin_E     891 non-null    uint8  \n",
      " 15  Cabin_F     891 non-null    uint8  \n",
      " 16  Cabin_G     891 non-null    uint8  \n",
      "dtypes: float64(2), int32(1), int64(4), uint8(10)\n",
      "memory usage: 54.1 KB\n"
     ]
    }
   ],
   "source": [
    "#make test and train data\n",
    "y = df['Survived']\n",
    "X = df.drop(['Survived', 'PassengerId', 'Ticket', 'Name', 'Title'], axis=1)\n",
    "\n",
    "X_submission = test_df.drop(['PassengerId', 'Ticket', 'Name', 'Title'], axis=1)\n",
    "\n",
    "X.info()"
   ]
  },
  {
   "cell_type": "markdown",
   "id": "f53337b0",
   "metadata": {},
   "source": [
    "### Creating Models\n",
    "Here I have chose 5 different models to evaluate: \n",
    "* Gradient Boost Classifier\n",
    "* Logistic Regression\n",
    "* Random Forest\n",
    "* KNN\n",
    "* SVM\n",
    "\n",
    "Below all of the models are fit with the training data and a crossvalidation score is assigned with 10 folds. Several of the models with hyperparameters are tuned using an exhaustive grid search. "
   ]
  },
  {
   "cell_type": "markdown",
   "id": "4f7a3af1",
   "metadata": {},
   "source": [
    "**Gradient Boosting Classifier**"
   ]
  },
  {
   "cell_type": "code",
   "execution_count": 145,
   "id": "e35ea0d3",
   "metadata": {},
   "outputs": [
    {
     "data": {
      "text/plain": [
       "{'learning_rate': 0.05623413251903491, 'max_depth': 2, 'n_estimators': 200}"
      ]
     },
     "execution_count": 145,
     "metadata": {},
     "output_type": "execute_result"
    }
   ],
   "source": [
    "grid_size = 5\n",
    "n_estimators = (np.linspace(10,200,grid_size,dtype=int))\n",
    "learning_rates = np.logspace(start=-2, stop=1,num=grid_size)\n",
    "max_depth = np.arange(1,3)\n",
    "parameters = {'n_estimators':n_estimators,'max_depth':max_depth, 'learning_rate':learning_rates}\n",
    "\n",
    "grid = GridSearchCV(GradientBoostingClassifier(random_state=0), parameters, refit=True, cv=5)\n",
    "clf = grid.fit(x_train,y_train)\n",
    "grid.best_params_"
   ]
  },
  {
   "cell_type": "code",
   "execution_count": 262,
   "id": "768d2cfe",
   "metadata": {},
   "outputs": [],
   "source": [
    "gb_clf = GradientBoostingClassifier(n_estimators=200, learning_rate=0.05, max_depth=2,ccp_alpha=0.0015, random_state=0).fit(X,y)\n",
    "gb_cv = np.mean(cross_val_score(gb_clf, X, y, cv=10))"
   ]
  },
  {
   "cell_type": "markdown",
   "id": "f2eeaf9d",
   "metadata": {},
   "source": [
    "**Logstic Regression**"
   ]
  },
  {
   "cell_type": "code",
   "execution_count": 263,
   "id": "b6ba6222",
   "metadata": {},
   "outputs": [],
   "source": [
    "lr_clf = LogisticRegression(max_iter=1000).fit(x_train, y_train)\n",
    "lr_cv = np.mean(cross_val_score(lr_clf, X, y, cv=10))"
   ]
  },
  {
   "cell_type": "markdown",
   "id": "9044e66a",
   "metadata": {},
   "source": [
    "**Random Forest**"
   ]
  },
  {
   "cell_type": "code",
   "execution_count": 243,
   "id": "e7857013",
   "metadata": {},
   "outputs": [
    {
     "data": {
      "text/plain": [
       "{'ccp_alpha': 0.001623776739188721, 'max_depth': 3}"
      ]
     },
     "execution_count": 243,
     "metadata": {},
     "output_type": "execute_result"
    }
   ],
   "source": [
    "grid_size = 20\n",
    "ccp_alpha = np.logspace(start=-3, stop=1,num=grid_size)\n",
    "max_depth = np.arange(1,4)\n",
    "parameters = {'ccp_alpha':ccp_alpha, 'max_depth':max_depth}\n",
    "\n",
    "grid = GridSearchCV(RandomForestClassifier(n_estimators=200,random_state=0), parameters, refit=True, cv=10)\n",
    "clf = grid.fit(X,y)\n",
    "grid.best_params_"
   ]
  },
  {
   "cell_type": "code",
   "execution_count": 264,
   "id": "862e7f7b",
   "metadata": {},
   "outputs": [],
   "source": [
    "rf_clf = RandomForestClassifier(n_estimators = 200, max_depth=4, max_features='sqrt', ccp_alpha=0.0015, random_state=0).fit(X, y)\n",
    "rf_cv = np.mean(cross_val_score(rf_clf, X, y, cv=10))"
   ]
  },
  {
   "cell_type": "markdown",
   "id": "edf19b34",
   "metadata": {},
   "source": [
    "**KNN**"
   ]
  },
  {
   "cell_type": "code",
   "execution_count": 265,
   "id": "b561ea32",
   "metadata": {},
   "outputs": [],
   "source": [
    "knn_clf = KNeighborsClassifier(n_neighbors = 5).fit(X,y)\n",
    "knn_cv = np.mean(cross_val_score(knn_clf, X, y, cv=10))"
   ]
  },
  {
   "cell_type": "markdown",
   "id": "1682fcfd",
   "metadata": {},
   "source": [
    "**SVM**"
   ]
  },
  {
   "cell_type": "code",
   "execution_count": 102,
   "id": "0f4b48d9",
   "metadata": {},
   "outputs": [
    {
     "data": {
      "text/plain": [
       "{'C': 2.489385178928047, 'gamma': 0.06482219027788699}"
      ]
     },
     "execution_count": 102,
     "metadata": {},
     "output_type": "execute_result"
    }
   ],
   "source": [
    "grid_size = 20\n",
    "\n",
    "C = np.logspace(start=-5, stop=5, num=grid_size, base=2)\n",
    "gamma = np.logspace(start=-5, stop=5, num=grid_size, base=2)\n",
    "parameters = {'C':C, 'gamma':gamma}\n",
    "\n",
    "grid = GridSearchCV(SVC(kernel='rbf'), parameters, refit=True,cv=10)\n",
    "clf = grid.fit(X,y)\n",
    "grid.best_params_"
   ]
  },
  {
   "cell_type": "code",
   "execution_count": 266,
   "id": "fc286e6e",
   "metadata": {},
   "outputs": [],
   "source": [
    "svm_clf = SVC(kernel='rbf', C=2.5, gamma=0.05).fit(X,y)\n",
    "svm_cv = np.mean(cross_val_score(svm_clf, X,y,cv=10))"
   ]
  },
  {
   "cell_type": "markdown",
   "id": "e0c51c8a",
   "metadata": {},
   "source": [
    "**Cross Validation Scores**\n",
    "\n",
    "Here we compare the cross validation scores of each classifier after some parameter tuning"
   ]
  },
  {
   "cell_type": "code",
   "execution_count": 267,
   "id": "737f5316",
   "metadata": {},
   "outputs": [
    {
     "data": {
      "text/html": [
       "<div>\n",
       "<style scoped>\n",
       "    .dataframe tbody tr th:only-of-type {\n",
       "        vertical-align: middle;\n",
       "    }\n",
       "\n",
       "    .dataframe tbody tr th {\n",
       "        vertical-align: top;\n",
       "    }\n",
       "\n",
       "    .dataframe thead th {\n",
       "        text-align: right;\n",
       "    }\n",
       "</style>\n",
       "<table border=\"1\" class=\"dataframe\">\n",
       "  <thead>\n",
       "    <tr style=\"text-align: right;\">\n",
       "      <th></th>\n",
       "      <th>Model</th>\n",
       "      <th>10_Fold_CV_Score</th>\n",
       "    </tr>\n",
       "  </thead>\n",
       "  <tbody>\n",
       "    <tr>\n",
       "      <th>0</th>\n",
       "      <td>Gradient Boost</td>\n",
       "      <td>0.824919</td>\n",
       "    </tr>\n",
       "    <tr>\n",
       "      <th>2</th>\n",
       "      <td>Random Forest</td>\n",
       "      <td>0.822684</td>\n",
       "    </tr>\n",
       "    <tr>\n",
       "      <th>4</th>\n",
       "      <td>SVM</td>\n",
       "      <td>0.818202</td>\n",
       "    </tr>\n",
       "    <tr>\n",
       "      <th>1</th>\n",
       "      <td>Logistic Regression</td>\n",
       "      <td>0.791286</td>\n",
       "    </tr>\n",
       "    <tr>\n",
       "      <th>3</th>\n",
       "      <td>KNN</td>\n",
       "      <td>0.774457</td>\n",
       "    </tr>\n",
       "  </tbody>\n",
       "</table>\n",
       "</div>"
      ],
      "text/plain": [
       "                 Model  10_Fold_CV_Score\n",
       "0       Gradient Boost          0.824919\n",
       "2        Random Forest          0.822684\n",
       "4                  SVM          0.818202\n",
       "1  Logistic Regression          0.791286\n",
       "3                  KNN          0.774457"
      ]
     },
     "execution_count": 267,
     "metadata": {},
     "output_type": "execute_result"
    }
   ],
   "source": [
    "models = pd.DataFrame({'Model': ['Gradient Boost', 'Logistic Regression', 'Random Forest', 'KNN', 'SVM'],\n",
    "                      '10_Fold_CV_Score': [gb_cv, lr_cv, rf_cv, knn_cv, svm_cv]})\n",
    "models.sort_values(by='10_Fold_CV_Score', ascending=False)"
   ]
  },
  {
   "cell_type": "markdown",
   "id": "885913f5",
   "metadata": {},
   "source": [
    "### Model Evaluation\n",
    "\n",
    "**Metrics** \n",
    "\n",
    "We have already used crossvalidation above to compare the models, but below we do a split on the train data to evaluate other parameters. We must split because the test data for submission does not have labels. The below function calculates the following for the top classifer:\n",
    "* Accuracy\n",
    "* F1 Score\n",
    "* ROC Curve\n",
    "* Area under ROC curve\n",
    "* Confusion Matrix"
   ]
  },
  {
   "cell_type": "code",
   "execution_count": 268,
   "id": "dc8e8e5d",
   "metadata": {},
   "outputs": [],
   "source": [
    "x_train, x_test, y_train, y_test = train_test_split(X, y, test_size=0.2)"
   ]
  },
  {
   "cell_type": "code",
   "execution_count": 269,
   "id": "52ef89de",
   "metadata": {},
   "outputs": [],
   "source": [
    "def evaluate_model(model, x_test, y_test, estimator_name):\n",
    "    y_pred = model.predict(x_test)\n",
    "    cm = confusion_matrix(y_test, y_pred, labels=clf.classes_)\n",
    "    cm_display = ConfusionMatrixDisplay(cm, display_labels=clf.classes_).plot()\n",
    "    print('Accuracy Score:', accuracy_score(y_test, y_pred))\n",
    "    print('F1 Score:', f1_score(y_test, y_pred))\n",
    "    print('roc_auc_score:', roc_auc_score(y_test, y_pred, average='weighted'))\n",
    "    ypp = model.predict_proba(x_test)\n",
    "    fpr, tpr, th = roc_curve(y_test, ypp[:,1], pos_label=clf.classes_[1])\n",
    "    roc_auc = roc_auc_score(y_test, y_pred, average='weighted')\n",
    "    roc_display = RocCurveDisplay(fpr=fpr, tpr=tpr, roc_auc=roc_auc,estimator_name=estimator_name).plot()"
   ]
  },
  {
   "cell_type": "markdown",
   "id": "08e5e55b",
   "metadata": {},
   "source": [
    "**Random Forest Metrics**"
   ]
  },
  {
   "cell_type": "code",
   "execution_count": 270,
   "id": "27849f48",
   "metadata": {},
   "outputs": [
    {
     "name": "stdout",
     "output_type": "stream",
     "text": [
      "Gradient Boost Metrics\n",
      "Accuracy Score: 0.8100558659217877\n",
      "F1 Score: 0.746268656716418\n",
      "roc_auc_score: 0.7991418610887637\n"
     ]
    },
    {
     "data": {
      "image/png": "[encoded data removed]",
      "text/plain": [
       "<Figure size 640x480 with 2 Axes>"
      ]
     },
     "metadata": {},
     "output_type": "display_data"
    },
    {
     "data": {
      "image/png": "[encoded data removed]",
      "text/plain": [
       "<Figure size 640x480 with 1 Axes>"
      ]
     },
     "metadata": {},
     "output_type": "display_data"
    }
   ],
   "source": [
    "print('Gradient Boost Metrics')\n",
    "estimator_name = 'Gradient Boost' \n",
    "rf_clf_metrics = rf_clf.fit(x_train, y_train)\n",
    "evaluate_model(rf_clf, x_test, y_test, estimator_name)"
   ]
  },
  {
   "cell_type": "markdown",
   "id": "4fdcd5a3",
   "metadata": {},
   "source": [
    "### Ensembling Models\n",
    "\n",
    "Below I create a voting ensemble with the classifiers generated above. "
   ]
  },
  {
   "cell_type": "code",
   "execution_count": 271,
   "id": "3bc50c49",
   "metadata": {},
   "outputs": [
    {
     "name": "stdout",
     "output_type": "stream",
     "text": [
      "Ensemble CV score: 0.8182022471910113\n"
     ]
    }
   ],
   "source": [
    "weights = [1, 1, 1, 1]\n",
    "ens_clf = VotingClassifier(estimators=[\n",
    "            ('GB',gb_clf), ('lr', lr_clf), ('rf', rf_clf), ('svm', svm_clf)],\n",
    "            voting='hard', weights=weights).fit(X,y)\n",
    "ens_cv = np.mean(cross_val_score(svm_clf, X,y,cv=10))\n",
    "print('Ensemble CV score:', ens_cv)"
   ]
  },
  {
   "cell_type": "markdown",
   "id": "321da7e8",
   "metadata": {},
   "source": [
    "We see that the cross validation score is competitive with the other high performing models, but the Random Forest base model still scores higher."
   ]
  },
  {
   "cell_type": "markdown",
   "id": "57029b80",
   "metadata": {},
   "source": [
    "## Results\n",
    "I submitted the ensemble, random forest, and gradient boost models to kaggle. Despite the gradient boost model performing best with cross validation it actually scored lower than the random forest and the hard voting ensemble. The final scores were. Tweaking the features and dropping some can result in slight variations, so the scores below may vary slightly from the using all of the features.\n",
    "\n",
    "Perhaps most interesting to me was the fact that dropping the titles vastly improved accuracy score on submission despite decreasing the model accuracy with the metrics calculated above. My best guess is that somehow the models were overfit or the test data looked different somehow to the training data. \n",
    "\n",
    "* Voting Ensemble: 79.18%\n",
    "* Random Forest:   77.99%\n",
    "* Gradient Boost:  74.88%"
   ]
  },
  {
   "cell_type": "markdown",
   "id": "0a59808d",
   "metadata": {},
   "source": [
    "### Kaggle Submission\n",
    "\n",
    "Below I generate the submission CSV to submit to the kaggle challenge"
   ]
  },
  {
   "cell_type": "code",
   "execution_count": 275,
   "id": "d4d81b41",
   "metadata": {},
   "outputs": [],
   "source": [
    "submission_predictions = ens_clf.predict(X_submission)\n",
    "submission = pd.DataFrame({'PassengerId':test_df['PassengerId'], 'Survived':submission_predictions})\n",
    "submission.to_csv('submission.csv', index=False)"
   ]
  },
  {
   "cell_type": "code",
   "execution_count": null,
   "id": "a57dc696",
   "metadata": {},
   "outputs": [],
   "source": []
  }
 ],
 "metadata": {
  "kernelspec": {
   "display_name": "Python 3 (ipykernel)",
   "language": "python",
   "name": "python3"
  },
  "language_info": {
   "codemirror_mode": {
    "name": "ipython",
    "version": 3
   },
   "file_extension": ".py",
   "mimetype": "text/x-python",
   "name": "python",
   "nbconvert_exporter": "python",
   "pygments_lexer": "ipython3",
   "version": "3.9.13"
  }
 },
 "nbformat": 4,
 "nbformat_minor": 5
}
