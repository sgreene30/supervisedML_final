{
 "cells": [
  {
   "cell_type": "code",
   "execution_count": 141,
   "id": "a9eb4952",
   "metadata": {},
   "outputs": [],
   "source": [
    "import pandas as pd\n",
    "import numpy as np\n",
    "from sklearn import preprocessing\n",
    "from sklearn.model_selection import train_test_split\n",
    "from sklearn.ensemble import GradientBoostingClassifier\n",
    "from sklearn.linear_model import LogisticRegression\n",
    "from sklearn.model_selection import cross_val_score, GridSearchCV\n",
    "from sklearn.metrics import f1_score, confusion_matrix, accuracy_score, ConfusionMatrixDisplay\n",
    "from sklearn.metrics import roc_auc_score, roc_curve, RocCurveDisplay"
   ]
  },
  {
   "cell_type": "code",
   "execution_count": 142,
   "id": "d329a51d",
   "metadata": {},
   "outputs": [
    {
     "name": "stdout",
     "output_type": "stream",
     "text": [
      "<class 'pandas.core.frame.DataFrame'>\n",
      "RangeIndex: 891 entries, 0 to 890\n",
      "Data columns (total 10 columns):\n",
      " #   Column    Non-Null Count  Dtype  \n",
      "---  ------    --------------  -----  \n",
      " 0   Survived  891 non-null    int64  \n",
      " 1   Pclass    891 non-null    int64  \n",
      " 2   Name      891 non-null    object \n",
      " 3   Sex       891 non-null    object \n",
      " 4   Age       714 non-null    float64\n",
      " 5   SibSp     891 non-null    int64  \n",
      " 6   Parch     891 non-null    int64  \n",
      " 7   Fare      891 non-null    float64\n",
      " 8   Cabin     204 non-null    object \n",
      " 9   Embarked  889 non-null    object \n",
      "dtypes: float64(2), int64(4), object(4)\n",
      "memory usage: 69.7+ KB\n"
     ]
    }
   ],
   "source": [
    "df = pd.read_csv('train.csv')\n",
    "test_df = pd.read_csv('test.csv')\n",
    "del df['PassengerId'], df['Ticket']\n",
    "submissionPIDs = test_df['PassengerId']\n",
    "del test_df['PassengerId'], test_df['Ticket']\n",
    "df.info()"
   ]
  },
  {
   "cell_type": "code",
   "execution_count": 143,
   "id": "a99617d9",
   "metadata": {},
   "outputs": [
    {
     "data": {
      "text/plain": [
       "S    644\n",
       "C    168\n",
       "Q     77\n",
       "Name: Embarked, dtype: int64"
      ]
     },
     "execution_count": 143,
     "metadata": {},
     "output_type": "execute_result"
    }
   ],
   "source": [
    "df['Embarked'].value_counts()"
   ]
  },
  {
   "cell_type": "code",
   "execution_count": 144,
   "id": "50073ee4",
   "metadata": {},
   "outputs": [],
   "source": [
    "df.at[61, \"Embarked\"] = \"C\" #Since name is french assign cherbourgh\n",
    "df.at[829, \"Embarked\"] = \"S\" #The name here count be from either Ireland or England so \n",
    "                            #S is assigned since it is vastly more common\n",
    "    \n",
    "#for test data we will simply assign S\n",
    "test_df['Embarked'].fillna('S', inplace=True)"
   ]
  },
  {
   "cell_type": "code",
   "execution_count": 145,
   "id": "7fe13dd8",
   "metadata": {},
   "outputs": [],
   "source": [
    "df['Fare'].fillna(np.mean(df['Fare']), inplace=True)\n",
    "test_df['Fare'].fillna(np.mean(df['Fare']), inplace=True)"
   ]
  },
  {
   "cell_type": "code",
   "execution_count": 146,
   "id": "cef5bbaa",
   "metadata": {},
   "outputs": [],
   "source": [
    "df['Cabin'].fillna(value = 'unknown', inplace=True)\n",
    "test_df['Cabin'].fillna(value='unknown', inplace=True)\n",
    "\n",
    "def cabin(cab, letters):\n",
    "    for letter in letters:\n",
    "        if letter in cab:\n",
    "            return letter\n",
    "    return None\n",
    "\n",
    "letters = ['A', 'B', 'C', 'D', 'E', 'F', 'G']\n",
    "\n",
    "df['Cabin'] = df['Cabin'].map(lambda x: cabin(x, letters))\n",
    "test_df['Cabin'] = test_df['Cabin'].map(lambda x: cabin(x, letters))"
   ]
  },
  {
   "cell_type": "code",
   "execution_count": 147,
   "id": "2931390f",
   "metadata": {},
   "outputs": [
    {
     "data": {
      "text/plain": [
       "Mr        537\n",
       "Miss      180\n",
       "Mrs       134\n",
       "Master     40\n",
       "Name: Title, dtype: int64"
      ]
     },
     "execution_count": 147,
     "metadata": {},
     "output_type": "execute_result"
    }
   ],
   "source": [
    "def title(name, titles):\n",
    "    for title in titles:\n",
    "        if title in name:\n",
    "            return title\n",
    "    return None\n",
    "\n",
    "title_list = ['Mrs', 'Mr', 'Miss', 'Master']\n",
    "\n",
    "df['Title'] = df['Name'].map(lambda x: title(x, title_list))\n",
    "test_df['Title'] = test_df['Name'].map(lambda x: title(x, title_list))\n",
    "\n",
    "def impute_Nones(x):\n",
    "    if pd.isnull(x['Title']):\n",
    "        if x['Sex'] == 'male':\n",
    "            if x['Age'] <= 12:\n",
    "                return 'Master'\n",
    "            else:\n",
    "                return 'Mr'\n",
    "        elif x['Sex'] == 'female':\n",
    "            if x['Age'] >= 23:\n",
    "                return 'Mrs'\n",
    "            else:\n",
    "                return 'Miss'\n",
    "    else:\n",
    "        return x['Title']\n",
    "\n",
    "df['Title'] = df.apply(impute_Nones, axis=1)\n",
    "test_df['Title'] = df.apply(impute_Nones, axis=1)\n",
    "del df['Name'], test_df['Name']\n",
    "\n",
    "df['Title'].value_counts()"
   ]
  },
  {
   "cell_type": "code",
   "execution_count": 148,
   "id": "87105a0f",
   "metadata": {},
   "outputs": [
    {
     "name": "stdout",
     "output_type": "stream",
     "text": [
      "mrs_mean_age: 35.47008547008547\n",
      "mr_mean_age: 32.98441247002398\n",
      "miss_mean_age: 21.77777777777778\n",
      "master_mean_age: 4.574166666666667\n"
     ]
    },
    {
     "data": {
      "text/plain": [
       "<AxesSubplot:>"
      ]
     },
     "execution_count": 148,
     "metadata": {},
     "output_type": "execute_result"
    },
    {
     "data": {
      "image/png": "[encoded data removed]",
      "text/plain": [
       "<Figure size 640x480 with 1 Axes>"
      ]
     },
     "metadata": {},
     "output_type": "display_data"
    }
   ],
   "source": [
    "mrs = df.loc[df['Title'] == 'Mrs']\n",
    "mrs_mean_age = np.mean(mrs['Age'])\n",
    "\n",
    "mr = df.loc[df['Title'] == 'Mr']\n",
    "mr_mean_age = np.mean(mr['Age'])\n",
    "\n",
    "miss = df.loc[df['Title'] == 'Miss']\n",
    "miss_mean_age = np.mean(miss['Age'])\n",
    "\n",
    "master = df.loc[df['Title'] == 'Master']\n",
    "master_mean_age = np.mean(master['Age'])\n",
    "\n",
    "print('mrs_mean_age:', mrs_mean_age)\n",
    "print('mr_mean_age:', mr_mean_age)\n",
    "print('miss_mean_age:', miss_mean_age)\n",
    "print('master_mean_age:', master_mean_age)\n",
    "miss['Age'].hist()"
   ]
  },
  {
   "cell_type": "code",
   "execution_count": 149,
   "id": "62450c89",
   "metadata": {},
   "outputs": [],
   "source": [
    "def impute_ages(x):\n",
    "    if pd.isnull(x['Age']):\n",
    "        if x['Title'] == 'Mrs':\n",
    "            return 35\n",
    "        elif x['Title'] == 'Master':\n",
    "            return 4.5\n",
    "        elif x['Title'] == 'Miss':\n",
    "            return 22\n",
    "        else:\n",
    "            return 33\n",
    "    else:\n",
    "        return x['Age']\n",
    "\n",
    "df['Age'] = df.apply(impute_ages, axis=1)\n",
    "test_df['Age'] = df.apply(impute_ages, axis=1)"
   ]
  },
  {
   "cell_type": "code",
   "execution_count": 151,
   "id": "cd4f5b17",
   "metadata": {},
   "outputs": [
    {
     "name": "stdout",
     "output_type": "stream",
     "text": [
      "<class 'pandas.core.frame.DataFrame'>\n",
      "RangeIndex: 891 entries, 0 to 890\n",
      "Data columns (total 21 columns):\n",
      " #   Column        Non-Null Count  Dtype  \n",
      "---  ------        --------------  -----  \n",
      " 0   Survived      891 non-null    int64  \n",
      " 1   Pclass        891 non-null    int64  \n",
      " 2   Sex           891 non-null    object \n",
      " 3   Age           891 non-null    float64\n",
      " 4   SibSp         891 non-null    int64  \n",
      " 5   Parch         891 non-null    int64  \n",
      " 6   Fare          891 non-null    float64\n",
      " 7   Title_Master  891 non-null    uint8  \n",
      " 8   Title_Miss    891 non-null    uint8  \n",
      " 9   Title_Mr      891 non-null    uint8  \n",
      " 10  Title_Mrs     891 non-null    uint8  \n",
      " 11  Embarked_C    891 non-null    uint8  \n",
      " 12  Embarked_Q    891 non-null    uint8  \n",
      " 13  Embarked_S    891 non-null    uint8  \n",
      " 14  Cabin_A       891 non-null    uint8  \n",
      " 15  Cabin_B       891 non-null    uint8  \n",
      " 16  Cabin_C       891 non-null    uint8  \n",
      " 17  Cabin_D       891 non-null    uint8  \n",
      " 18  Cabin_E       891 non-null    uint8  \n",
      " 19  Cabin_F       891 non-null    uint8  \n",
      " 20  Cabin_G       891 non-null    uint8  \n",
      "dtypes: float64(2), int64(4), object(1), uint8(14)\n",
      "memory usage: 61.0+ KB\n"
     ]
    },
    {
     "data": {
      "text/html": [
       "<div>\n",
       "<style scoped>\n",
       "    .dataframe tbody tr th:only-of-type {\n",
       "        vertical-align: middle;\n",
       "    }\n",
       "\n",
       "    .dataframe tbody tr th {\n",
       "        vertical-align: top;\n",
       "    }\n",
       "\n",
       "    .dataframe thead th {\n",
       "        text-align: right;\n",
       "    }\n",
       "</style>\n",
       "<table border=\"1\" class=\"dataframe\">\n",
       "  <thead>\n",
       "    <tr style=\"text-align: right;\">\n",
       "      <th></th>\n",
       "      <th>Survived</th>\n",
       "      <th>Pclass</th>\n",
       "      <th>Sex</th>\n",
       "      <th>Age</th>\n",
       "      <th>SibSp</th>\n",
       "      <th>Parch</th>\n",
       "      <th>Fare</th>\n",
       "      <th>Title_Master</th>\n",
       "      <th>Title_Miss</th>\n",
       "      <th>Title_Mr</th>\n",
       "      <th>...</th>\n",
       "      <th>Embarked_C</th>\n",
       "      <th>Embarked_Q</th>\n",
       "      <th>Embarked_S</th>\n",
       "      <th>Cabin_A</th>\n",
       "      <th>Cabin_B</th>\n",
       "      <th>Cabin_C</th>\n",
       "      <th>Cabin_D</th>\n",
       "      <th>Cabin_E</th>\n",
       "      <th>Cabin_F</th>\n",
       "      <th>Cabin_G</th>\n",
       "    </tr>\n",
       "  </thead>\n",
       "  <tbody>\n",
       "    <tr>\n",
       "      <th>0</th>\n",
       "      <td>0</td>\n",
       "      <td>3</td>\n",
       "      <td>male</td>\n",
       "      <td>22.0</td>\n",
       "      <td>1</td>\n",
       "      <td>0</td>\n",
       "      <td>7.2500</td>\n",
       "      <td>0</td>\n",
       "      <td>0</td>\n",
       "      <td>1</td>\n",
       "      <td>...</td>\n",
       "      <td>0</td>\n",
       "      <td>0</td>\n",
       "      <td>1</td>\n",
       "      <td>0</td>\n",
       "      <td>0</td>\n",
       "      <td>0</td>\n",
       "      <td>0</td>\n",
       "      <td>0</td>\n",
       "      <td>0</td>\n",
       "      <td>0</td>\n",
       "    </tr>\n",
       "    <tr>\n",
       "      <th>1</th>\n",
       "      <td>1</td>\n",
       "      <td>1</td>\n",
       "      <td>female</td>\n",
       "      <td>38.0</td>\n",
       "      <td>1</td>\n",
       "      <td>0</td>\n",
       "      <td>71.2833</td>\n",
       "      <td>0</td>\n",
       "      <td>0</td>\n",
       "      <td>0</td>\n",
       "      <td>...</td>\n",
       "      <td>1</td>\n",
       "      <td>0</td>\n",
       "      <td>0</td>\n",
       "      <td>0</td>\n",
       "      <td>0</td>\n",
       "      <td>1</td>\n",
       "      <td>0</td>\n",
       "      <td>0</td>\n",
       "      <td>0</td>\n",
       "      <td>0</td>\n",
       "    </tr>\n",
       "    <tr>\n",
       "      <th>2</th>\n",
       "      <td>1</td>\n",
       "      <td>3</td>\n",
       "      <td>female</td>\n",
       "      <td>26.0</td>\n",
       "      <td>0</td>\n",
       "      <td>0</td>\n",
       "      <td>7.9250</td>\n",
       "      <td>0</td>\n",
       "      <td>1</td>\n",
       "      <td>0</td>\n",
       "      <td>...</td>\n",
       "      <td>0</td>\n",
       "      <td>0</td>\n",
       "      <td>1</td>\n",
       "      <td>0</td>\n",
       "      <td>0</td>\n",
       "      <td>0</td>\n",
       "      <td>0</td>\n",
       "      <td>0</td>\n",
       "      <td>0</td>\n",
       "      <td>0</td>\n",
       "    </tr>\n",
       "    <tr>\n",
       "      <th>3</th>\n",
       "      <td>1</td>\n",
       "      <td>1</td>\n",
       "      <td>female</td>\n",
       "      <td>35.0</td>\n",
       "      <td>1</td>\n",
       "      <td>0</td>\n",
       "      <td>53.1000</td>\n",
       "      <td>0</td>\n",
       "      <td>0</td>\n",
       "      <td>0</td>\n",
       "      <td>...</td>\n",
       "      <td>0</td>\n",
       "      <td>0</td>\n",
       "      <td>1</td>\n",
       "      <td>0</td>\n",
       "      <td>0</td>\n",
       "      <td>1</td>\n",
       "      <td>0</td>\n",
       "      <td>0</td>\n",
       "      <td>0</td>\n",
       "      <td>0</td>\n",
       "    </tr>\n",
       "    <tr>\n",
       "      <th>4</th>\n",
       "      <td>0</td>\n",
       "      <td>3</td>\n",
       "      <td>male</td>\n",
       "      <td>35.0</td>\n",
       "      <td>0</td>\n",
       "      <td>0</td>\n",
       "      <td>8.0500</td>\n",
       "      <td>0</td>\n",
       "      <td>0</td>\n",
       "      <td>1</td>\n",
       "      <td>...</td>\n",
       "      <td>0</td>\n",
       "      <td>0</td>\n",
       "      <td>1</td>\n",
       "      <td>0</td>\n",
       "      <td>0</td>\n",
       "      <td>0</td>\n",
       "      <td>0</td>\n",
       "      <td>0</td>\n",
       "      <td>0</td>\n",
       "      <td>0</td>\n",
       "    </tr>\n",
       "  </tbody>\n",
       "</table>\n",
       "<p>5 rows × 21 columns</p>\n",
       "</div>"
      ],
      "text/plain": [
       "   Survived  Pclass     Sex   Age  SibSp  Parch     Fare  Title_Master  \\\n",
       "0         0       3    male  22.0      1      0   7.2500             0   \n",
       "1         1       1  female  38.0      1      0  71.2833             0   \n",
       "2         1       3  female  26.0      0      0   7.9250             0   \n",
       "3         1       1  female  35.0      1      0  53.1000             0   \n",
       "4         0       3    male  35.0      0      0   8.0500             0   \n",
       "\n",
       "   Title_Miss  Title_Mr  ...  Embarked_C  Embarked_Q  Embarked_S  Cabin_A  \\\n",
       "0           0         1  ...           0           0           1        0   \n",
       "1           0         0  ...           1           0           0        0   \n",
       "2           1         0  ...           0           0           1        0   \n",
       "3           0         0  ...           0           0           1        0   \n",
       "4           0         1  ...           0           0           1        0   \n",
       "\n",
       "   Cabin_B  Cabin_C  Cabin_D  Cabin_E  Cabin_F  Cabin_G  \n",
       "0        0        0        0        0        0        0  \n",
       "1        0        1        0        0        0        0  \n",
       "2        0        0        0        0        0        0  \n",
       "3        0        1        0        0        0        0  \n",
       "4        0        0        0        0        0        0  \n",
       "\n",
       "[5 rows x 21 columns]"
      ]
     },
     "execution_count": 151,
     "metadata": {},
     "output_type": "execute_result"
    }
   ],
   "source": [
    "df = pd.get_dummies(df, columns = ['Title', 'Embarked', 'Cabin'])\n",
    "test_df = pd.get_dummies(test_df, columns = ['Title', 'Embarked', 'Cabin'])\n",
    "df.head()"
   ]
  },
  {
   "cell_type": "code",
   "execution_count": 152,
   "id": "c35798d9",
   "metadata": {},
   "outputs": [
    {
     "data": {
      "text/html": [
       "<div>\n",
       "<style scoped>\n",
       "    .dataframe tbody tr th:only-of-type {\n",
       "        vertical-align: middle;\n",
       "    }\n",
       "\n",
       "    .dataframe tbody tr th {\n",
       "        vertical-align: top;\n",
       "    }\n",
       "\n",
       "    .dataframe thead th {\n",
       "        text-align: right;\n",
       "    }\n",
       "</style>\n",
       "<table border=\"1\" class=\"dataframe\">\n",
       "  <thead>\n",
       "    <tr style=\"text-align: right;\">\n",
       "      <th></th>\n",
       "      <th>Survived</th>\n",
       "      <th>Pclass</th>\n",
       "      <th>Sex</th>\n",
       "      <th>Age</th>\n",
       "      <th>SibSp</th>\n",
       "      <th>Parch</th>\n",
       "      <th>Fare</th>\n",
       "      <th>Title_Master</th>\n",
       "      <th>Title_Miss</th>\n",
       "      <th>Title_Mr</th>\n",
       "      <th>...</th>\n",
       "      <th>Embarked_C</th>\n",
       "      <th>Embarked_Q</th>\n",
       "      <th>Embarked_S</th>\n",
       "      <th>Cabin_A</th>\n",
       "      <th>Cabin_B</th>\n",
       "      <th>Cabin_C</th>\n",
       "      <th>Cabin_D</th>\n",
       "      <th>Cabin_E</th>\n",
       "      <th>Cabin_F</th>\n",
       "      <th>Cabin_G</th>\n",
       "    </tr>\n",
       "  </thead>\n",
       "  <tbody>\n",
       "    <tr>\n",
       "      <th>0</th>\n",
       "      <td>0</td>\n",
       "      <td>3</td>\n",
       "      <td>1</td>\n",
       "      <td>22.0</td>\n",
       "      <td>1</td>\n",
       "      <td>0</td>\n",
       "      <td>7.2500</td>\n",
       "      <td>0</td>\n",
       "      <td>0</td>\n",
       "      <td>1</td>\n",
       "      <td>...</td>\n",
       "      <td>0</td>\n",
       "      <td>0</td>\n",
       "      <td>1</td>\n",
       "      <td>0</td>\n",
       "      <td>0</td>\n",
       "      <td>0</td>\n",
       "      <td>0</td>\n",
       "      <td>0</td>\n",
       "      <td>0</td>\n",
       "      <td>0</td>\n",
       "    </tr>\n",
       "    <tr>\n",
       "      <th>1</th>\n",
       "      <td>1</td>\n",
       "      <td>1</td>\n",
       "      <td>0</td>\n",
       "      <td>38.0</td>\n",
       "      <td>1</td>\n",
       "      <td>0</td>\n",
       "      <td>71.2833</td>\n",
       "      <td>0</td>\n",
       "      <td>0</td>\n",
       "      <td>0</td>\n",
       "      <td>...</td>\n",
       "      <td>1</td>\n",
       "      <td>0</td>\n",
       "      <td>0</td>\n",
       "      <td>0</td>\n",
       "      <td>0</td>\n",
       "      <td>1</td>\n",
       "      <td>0</td>\n",
       "      <td>0</td>\n",
       "      <td>0</td>\n",
       "      <td>0</td>\n",
       "    </tr>\n",
       "    <tr>\n",
       "      <th>2</th>\n",
       "      <td>1</td>\n",
       "      <td>3</td>\n",
       "      <td>0</td>\n",
       "      <td>26.0</td>\n",
       "      <td>0</td>\n",
       "      <td>0</td>\n",
       "      <td>7.9250</td>\n",
       "      <td>0</td>\n",
       "      <td>1</td>\n",
       "      <td>0</td>\n",
       "      <td>...</td>\n",
       "      <td>0</td>\n",
       "      <td>0</td>\n",
       "      <td>1</td>\n",
       "      <td>0</td>\n",
       "      <td>0</td>\n",
       "      <td>0</td>\n",
       "      <td>0</td>\n",
       "      <td>0</td>\n",
       "      <td>0</td>\n",
       "      <td>0</td>\n",
       "    </tr>\n",
       "    <tr>\n",
       "      <th>3</th>\n",
       "      <td>1</td>\n",
       "      <td>1</td>\n",
       "      <td>0</td>\n",
       "      <td>35.0</td>\n",
       "      <td>1</td>\n",
       "      <td>0</td>\n",
       "      <td>53.1000</td>\n",
       "      <td>0</td>\n",
       "      <td>0</td>\n",
       "      <td>0</td>\n",
       "      <td>...</td>\n",
       "      <td>0</td>\n",
       "      <td>0</td>\n",
       "      <td>1</td>\n",
       "      <td>0</td>\n",
       "      <td>0</td>\n",
       "      <td>1</td>\n",
       "      <td>0</td>\n",
       "      <td>0</td>\n",
       "      <td>0</td>\n",
       "      <td>0</td>\n",
       "    </tr>\n",
       "    <tr>\n",
       "      <th>4</th>\n",
       "      <td>0</td>\n",
       "      <td>3</td>\n",
       "      <td>1</td>\n",
       "      <td>35.0</td>\n",
       "      <td>0</td>\n",
       "      <td>0</td>\n",
       "      <td>8.0500</td>\n",
       "      <td>0</td>\n",
       "      <td>0</td>\n",
       "      <td>1</td>\n",
       "      <td>...</td>\n",
       "      <td>0</td>\n",
       "      <td>0</td>\n",
       "      <td>1</td>\n",
       "      <td>0</td>\n",
       "      <td>0</td>\n",
       "      <td>0</td>\n",
       "      <td>0</td>\n",
       "      <td>0</td>\n",
       "      <td>0</td>\n",
       "      <td>0</td>\n",
       "    </tr>\n",
       "  </tbody>\n",
       "</table>\n",
       "<p>5 rows × 21 columns</p>\n",
       "</div>"
      ],
      "text/plain": [
       "   Survived  Pclass  Sex   Age  SibSp  Parch     Fare  Title_Master  \\\n",
       "0         0       3    1  22.0      1      0   7.2500             0   \n",
       "1         1       1    0  38.0      1      0  71.2833             0   \n",
       "2         1       3    0  26.0      0      0   7.9250             0   \n",
       "3         1       1    0  35.0      1      0  53.1000             0   \n",
       "4         0       3    1  35.0      0      0   8.0500             0   \n",
       "\n",
       "   Title_Miss  Title_Mr  ...  Embarked_C  Embarked_Q  Embarked_S  Cabin_A  \\\n",
       "0           0         1  ...           0           0           1        0   \n",
       "1           0         0  ...           1           0           0        0   \n",
       "2           1         0  ...           0           0           1        0   \n",
       "3           0         0  ...           0           0           1        0   \n",
       "4           0         1  ...           0           0           1        0   \n",
       "\n",
       "   Cabin_B  Cabin_C  Cabin_D  Cabin_E  Cabin_F  Cabin_G  \n",
       "0        0        0        0        0        0        0  \n",
       "1        0        1        0        0        0        0  \n",
       "2        0        0        0        0        0        0  \n",
       "3        0        1        0        0        0        0  \n",
       "4        0        0        0        0        0        0  \n",
       "\n",
       "[5 rows x 21 columns]"
      ]
     },
     "execution_count": 152,
     "metadata": {},
     "output_type": "execute_result"
    }
   ],
   "source": [
    "encoder = preprocessing.LabelEncoder()\n",
    "\n",
    "features = ['Sex']\n",
    "for feature in features:\n",
    "    df[feature] = encoder.fit_transform(df[feature])\n",
    "    test_df[feature] = encoder.fit_transform(test_df[feature])\n",
    "\n",
    "df.head()"
   ]
  },
  {
   "cell_type": "code",
   "execution_count": 164,
   "id": "4b29530b",
   "metadata": {},
   "outputs": [],
   "source": [
    "#make test and train data\n",
    "y = df['Survived']\n",
    "X = df.drop(['Survived'], axis=1)\n",
    "\n",
    "X_submission = test_df\n",
    "\n",
    "x_train, x_test, y_train, y_test = train_test_split(X, y, test_size=0.2)"
   ]
  },
  {
   "cell_type": "code",
   "execution_count": 120,
   "id": "5c8adb3c",
   "metadata": {},
   "outputs": [
    {
     "data": {
      "text/plain": [
       "{'learning_rate': 0.31622776601683794, 'max_depth': 2, 'n_estimators': 200}"
      ]
     },
     "execution_count": 120,
     "metadata": {},
     "output_type": "execute_result"
    }
   ],
   "source": [
    "grid_size = 5\n",
    "n_estimators = (np.linspace(10,200,grid_size,dtype=int))\n",
    "learning_rates = np.logspace(start=-2, stop=1,num=grid_size)\n",
    "max_depth = np.arange(1,3)\n",
    "parameters = {'n_estimators':n_estimators,'max_depth':max_depth, 'learning_rate':learning_rates}\n",
    "\n",
    "grid = GridSearchCV(GradientBoostingClassifier(random_state=0), parameters, refit=True, cv=5)\n",
    "clf = grid.fit(x_train,y_train)\n",
    "grid.best_params_"
   ]
  },
  {
   "cell_type": "code",
   "execution_count": 162,
   "id": "ff9966c7",
   "metadata": {},
   "outputs": [
    {
     "name": "stdout",
     "output_type": "stream",
     "text": [
      "cross_val_score:  0.8283221392254095\n"
     ]
    }
   ],
   "source": [
    "clf = GradientBoostingClassifier(n_estimators=100, learning_rate=0.1, max_depth=2, random_state=0)\n",
    "\n",
    "print('cross_val_score: ', np.mean(cross_val_score(clf, X, y, cv=5)))\n",
    "clf = clf.fit(x_train, y_train)"
   ]
  },
  {
   "cell_type": "code",
   "execution_count": 165,
   "id": "43ffa4ce",
   "metadata": {},
   "outputs": [
    {
     "name": "stdout",
     "output_type": "stream",
     "text": [
      "cross_val_score:  0.8282970309459545\n"
     ]
    }
   ],
   "source": [
    "clf1 = LogisticRegression(max_iter=1000).fit(x_train, y_train)\n",
    "clf1.score(x_test, y_test)\n",
    "print('cross_val_score: ', np.mean(cross_val_score(clf1, X, y, cv=5)))"
   ]
  },
  {
   "cell_type": "code",
   "execution_count": 156,
   "id": "8e560542",
   "metadata": {},
   "outputs": [
    {
     "name": "stdout",
     "output_type": "stream",
     "text": [
      "GradientBoost Metrics\n",
      "Accuracy Score: 0.8283582089552238\n",
      "F1 Score: 0.7386363636363635\n",
      "roc_auc_score: 0.7992835968379447\n"
     ]
    },
    {
     "data": {
      "image/png": "[encoded data removed]",
      "text/plain": [
       "<Figure size 640x480 with 2 Axes>"
      ]
     },
     "metadata": {},
     "output_type": "display_data"
    },
    {
     "data": {
      "image/png": "[encoded data removed]",
      "text/plain": [
       "<Figure size 640x480 with 1 Axes>"
      ]
     },
     "metadata": {},
     "output_type": "display_data"
    }
   ],
   "source": [
    "def evaluate_model(model, x_test, y_test):\n",
    "    y_pred = model.predict(x_test)\n",
    "    cm = confusion_matrix(y_test, y_pred, labels = [0, 1])\n",
    "    cm_display = ConfusionMatrixDisplay(cm).plot()\n",
    "    print('Accuracy Score:', accuracy_score(y_test, y_pred))\n",
    "    print('F1 Score:', f1_score(y_test, y_pred))\n",
    "    print('roc_auc_score:', roc_auc_score(y_test, y_pred))\n",
    "    ypp = model.predict_proba(x_test)\n",
    "    fpr, tpr, th = roc_curve(y_test, ypp[:,1], pos_label=clf.classes_[1])\n",
    "    roc_display = RocCurveDisplay(fpr=fpr, tpr=tpr).plot()\n",
    "\n",
    "print('GradientBoost Metrics')\n",
    "evaluate_model(clf, x_test, y_test)"
   ]
  },
  {
   "cell_type": "code",
   "execution_count": 167,
   "id": "1b5788ef",
   "metadata": {},
   "outputs": [
    {
     "name": "stdout",
     "output_type": "stream",
     "text": [
      "Logistic Regression Metrics\n",
      "Accuracy Score: 0.8379888268156425\n",
      "F1 Score: 0.7851851851851852\n",
      "roc_auc_score: 0.8213265835929388\n"
     ]
    },
    {
     "data": {
      "image/png": "[encoded data removed]",
      "text/plain": [
       "<Figure size 640x480 with 2 Axes>"
      ]
     },
     "metadata": {},
     "output_type": "display_data"
    },
    {
     "data": {
      "image/png": "[encoded data removed]",
      "text/plain": [
       "<Figure size 640x480 with 1 Axes>"
      ]
     },
     "metadata": {},
     "output_type": "display_data"
    }
   ],
   "source": [
    "print('Logistic Regression Metrics')\n",
    "evaluate_model(clf1, x_test, y_test)"
   ]
  },
  {
   "cell_type": "code",
   "execution_count": 166,
   "id": "f6815990",
   "metadata": {},
   "outputs": [],
   "source": [
    "submission_predictions = clf1.predict(X_submission)\n",
    "submission = pd.DataFrame({'PassengerId':submissionPIDs, 'Survived':submission_predictions})\n",
    "submission.to_csv('submission.csv', index=False)"
   ]
  },
  {
   "cell_type": "code",
   "execution_count": null,
   "id": "5773f91f",
   "metadata": {},
   "outputs": [],
   "source": []
  }
 ],
 "metadata": {
  "kernelspec": {
   "display_name": "Python 3 (ipykernel)",
   "language": "python",
   "name": "python3"
  },
  "language_info": {
   "codemirror_mode": {
    "name": "ipython",
    "version": 3
   },
   "file_extension": ".py",
   "mimetype": "text/x-python",
   "name": "python",
   "nbconvert_exporter": "python",
   "pygments_lexer": "ipython3",
   "version": "3.9.13"
  }
 },
 "nbformat": 4,
 "nbformat_minor": 5
}
