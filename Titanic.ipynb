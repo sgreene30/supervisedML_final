{
 "cells": [
  {
   "cell_type": "code",
   "execution_count": 162,
   "id": "6f173d64",
   "metadata": {},
   "outputs": [],
   "source": [
    "import pandas as pd\n",
    "import numpy as np\n",
    "from sklearn import preprocessing\n",
    "from sklearn.model_selection import train_test_split\n",
    "from sklearn.ensemble import GradientBoostingClassifier\n",
    "from sklearn.linear_model import LogisticRegression\n",
    "from sklearn.model_selection import cross_val_score"
   ]
  },
  {
   "cell_type": "code",
   "execution_count": 113,
   "id": "a008ed8d",
   "metadata": {},
   "outputs": [
    {
     "name": "stdout",
     "output_type": "stream",
     "text": [
      "<class 'pandas.core.frame.DataFrame'>\n",
      "RangeIndex: 891 entries, 0 to 890\n",
      "Data columns (total 9 columns):\n",
      " #   Column    Non-Null Count  Dtype  \n",
      "---  ------    --------------  -----  \n",
      " 0   Survived  891 non-null    int64  \n",
      " 1   Pclass    891 non-null    int64  \n",
      " 2   Name      891 non-null    object \n",
      " 3   Sex       891 non-null    object \n",
      " 4   Age       714 non-null    float64\n",
      " 5   SibSp     891 non-null    int64  \n",
      " 6   Parch     891 non-null    int64  \n",
      " 7   Fare      891 non-null    float64\n",
      " 8   Embarked  889 non-null    object \n",
      "dtypes: float64(2), int64(4), object(3)\n",
      "memory usage: 62.8+ KB\n"
     ]
    }
   ],
   "source": [
    "df = pd.read_csv(\"train.csv\")\n",
    "del df['Cabin'], df['PassengerId'], df['Ticket']\n",
    "df.info()"
   ]
  },
  {
   "cell_type": "code",
   "execution_count": 53,
   "id": "2f04f3ea",
   "metadata": {},
   "outputs": [
    {
     "name": "stdout",
     "output_type": "stream",
     "text": [
      "Southampton: 644\n",
      "Cherbourg: 168\n",
      "Queenstown: 77\n",
      "Null 2\n"
     ]
    }
   ],
   "source": [
    "print(\"Southampton:\", sum(df['Embarked'] == 'S'))\n",
    "print(\"Cherbourg:\", sum(df['Embarked'] == 'C'))\n",
    "print(\"Queenstown:\", sum(df['Embarked'] == 'Q'))\n",
    "print(\"Null\", sum(df[\"Embarked\"].isnull()))"
   ]
  },
  {
   "cell_type": "code",
   "execution_count": 117,
   "id": "b9f360c0",
   "metadata": {},
   "outputs": [],
   "source": [
    "df.at[61, \"Embarked\"] = \"C\" #Since name is french assign cherbourgh\n",
    "df.at[829, \"Embarked\"] = \"S\" #The name here count be from either Ireland or England so \n",
    "                            #S is assigned since it is vastly more common"
   ]
  },
  {
   "cell_type": "code",
   "execution_count": 123,
   "id": "d1ef5d9a",
   "metadata": {},
   "outputs": [
    {
     "name": "stdout",
     "output_type": "stream",
     "text": [
      "Mrs :  129\n",
      "Mr :  518\n",
      "Miss :  180\n",
      "Master :  40\n"
     ]
    }
   ],
   "source": [
    "def title(name, titles):\n",
    "    for title in titles:\n",
    "        if title in name:\n",
    "            return title\n",
    "    return None\n",
    "\n",
    "title_list = ['Mrs', 'Mr', 'Miss', 'Master']\n",
    "\n",
    "df['Title'] = df['Name'].map(lambda x: title(x, title_list))\n",
    "\n",
    "def impute_Nones(x):\n",
    "    if pd.isnull(x['Title']):\n",
    "        if x['Sex'] == 'male':\n",
    "            if x['Age'] <= 12:\n",
    "                return 'Master'\n",
    "            else:\n",
    "                return 'Mr'\n",
    "        elif x['Sex'] == 'female':\n",
    "            if x['Age'] >= 23:\n",
    "                return 'Mrs'\n",
    "            else:\n",
    "                return 'Miss'\n",
    "    else:\n",
    "        return x['Title']\n",
    "\n",
    "df['Title'] = df.apply(impute_Nones, axis=1)\n",
    "del df['Name']\n",
    "#print(df.info())\n",
    "for title in title_list:\n",
    "    print(title, ': ', sum(df['Title'] == title))"
   ]
  },
  {
   "cell_type": "code",
   "execution_count": 104,
   "id": "a8e0efe0",
   "metadata": {},
   "outputs": [
    {
     "name": "stdout",
     "output_type": "stream",
     "text": [
      "mrs_mean_age: 35.47008547008547\n",
      "mr_mean_age: 32.98441247002398\n",
      "miss_mean_age: 21.77777777777778\n",
      "master_mean_age: 4.574166666666667\n"
     ]
    }
   ],
   "source": [
    "mrs = df.loc[df['Title'] == 'Mrs']\n",
    "mrs_mean_age = np.mean(mrs['Age'])\n",
    "\n",
    "mr = df.loc[df['Title'] == 'Mr']\n",
    "mr_mean_age = np.mean(mr['Age'])\n",
    "\n",
    "miss = df.loc[df['Title'] == 'Miss']\n",
    "miss_mean_age = np.mean(miss['Age'])\n",
    "\n",
    "master = df.loc[df['Title'] == 'Master']\n",
    "master_mean_age = np.mean(master['Age'])\n",
    "\n",
    "print('mrs_mean_age:', mrs_mean_age)\n",
    "print('mr_mean_age:', mr_mean_age)\n",
    "print('miss_mean_age:', miss_mean_age)\n",
    "print('master_mean_age:', master_mean_age)"
   ]
  },
  {
   "cell_type": "code",
   "execution_count": 115,
   "id": "1abd9d7a",
   "metadata": {},
   "outputs": [],
   "source": [
    "def impute_ages(x):\n",
    "    if pd.isnull(x['Age']):\n",
    "        if x['Title'] == 'Mrs':\n",
    "            return 35\n",
    "        elif x['Title'] == 'Master':\n",
    "            return 4.5\n",
    "        elif x['Title'] == 'Miss':\n",
    "            return 22\n",
    "        else:\n",
    "            return 33\n",
    "    else:\n",
    "        return x['Age']\n",
    "\n",
    "df['Age'] = df.apply(impute_ages, axis=1)"
   ]
  },
  {
   "cell_type": "code",
   "execution_count": 124,
   "id": "d71a9457",
   "metadata": {},
   "outputs": [
    {
     "name": "stdout",
     "output_type": "stream",
     "text": [
      "<class 'pandas.core.frame.DataFrame'>\n",
      "RangeIndex: 891 entries, 0 to 890\n",
      "Data columns (total 9 columns):\n",
      " #   Column    Non-Null Count  Dtype  \n",
      "---  ------    --------------  -----  \n",
      " 0   Survived  891 non-null    int64  \n",
      " 1   Pclass    891 non-null    int64  \n",
      " 2   Sex       891 non-null    int32  \n",
      " 3   Age       891 non-null    float64\n",
      " 4   SibSp     891 non-null    int64  \n",
      " 5   Parch     891 non-null    int64  \n",
      " 6   Fare      891 non-null    float64\n",
      " 7   Embarked  891 non-null    int32  \n",
      " 8   Title     867 non-null    object \n",
      "dtypes: float64(2), int32(2), int64(4), object(1)\n",
      "memory usage: 55.8+ KB\n"
     ]
    },
    {
     "data": {
      "text/html": [
       "<div>\n",
       "<style scoped>\n",
       "    .dataframe tbody tr th:only-of-type {\n",
       "        vertical-align: middle;\n",
       "    }\n",
       "\n",
       "    .dataframe tbody tr th {\n",
       "        vertical-align: top;\n",
       "    }\n",
       "\n",
       "    .dataframe thead th {\n",
       "        text-align: right;\n",
       "    }\n",
       "</style>\n",
       "<table border=\"1\" class=\"dataframe\">\n",
       "  <thead>\n",
       "    <tr style=\"text-align: right;\">\n",
       "      <th></th>\n",
       "      <th>Survived</th>\n",
       "      <th>Pclass</th>\n",
       "      <th>Sex</th>\n",
       "      <th>Age</th>\n",
       "      <th>SibSp</th>\n",
       "      <th>Parch</th>\n",
       "      <th>Fare</th>\n",
       "      <th>Embarked</th>\n",
       "      <th>Title</th>\n",
       "    </tr>\n",
       "  </thead>\n",
       "  <tbody>\n",
       "    <tr>\n",
       "      <th>0</th>\n",
       "      <td>0</td>\n",
       "      <td>3</td>\n",
       "      <td>1</td>\n",
       "      <td>22.0</td>\n",
       "      <td>1</td>\n",
       "      <td>0</td>\n",
       "      <td>7.2500</td>\n",
       "      <td>2</td>\n",
       "      <td>Mr</td>\n",
       "    </tr>\n",
       "    <tr>\n",
       "      <th>1</th>\n",
       "      <td>1</td>\n",
       "      <td>1</td>\n",
       "      <td>0</td>\n",
       "      <td>38.0</td>\n",
       "      <td>1</td>\n",
       "      <td>0</td>\n",
       "      <td>71.2833</td>\n",
       "      <td>0</td>\n",
       "      <td>Mrs</td>\n",
       "    </tr>\n",
       "    <tr>\n",
       "      <th>2</th>\n",
       "      <td>1</td>\n",
       "      <td>3</td>\n",
       "      <td>0</td>\n",
       "      <td>26.0</td>\n",
       "      <td>0</td>\n",
       "      <td>0</td>\n",
       "      <td>7.9250</td>\n",
       "      <td>2</td>\n",
       "      <td>Miss</td>\n",
       "    </tr>\n",
       "    <tr>\n",
       "      <th>3</th>\n",
       "      <td>1</td>\n",
       "      <td>1</td>\n",
       "      <td>0</td>\n",
       "      <td>35.0</td>\n",
       "      <td>1</td>\n",
       "      <td>0</td>\n",
       "      <td>53.1000</td>\n",
       "      <td>2</td>\n",
       "      <td>Mrs</td>\n",
       "    </tr>\n",
       "    <tr>\n",
       "      <th>4</th>\n",
       "      <td>0</td>\n",
       "      <td>3</td>\n",
       "      <td>1</td>\n",
       "      <td>35.0</td>\n",
       "      <td>0</td>\n",
       "      <td>0</td>\n",
       "      <td>8.0500</td>\n",
       "      <td>2</td>\n",
       "      <td>Mr</td>\n",
       "    </tr>\n",
       "  </tbody>\n",
       "</table>\n",
       "</div>"
      ],
      "text/plain": [
       "   Survived  Pclass  Sex   Age  SibSp  Parch     Fare  Embarked Title\n",
       "0         0       3    1  22.0      1      0   7.2500         2    Mr\n",
       "1         1       1    0  38.0      1      0  71.2833         0   Mrs\n",
       "2         1       3    0  26.0      0      0   7.9250         2  Miss\n",
       "3         1       1    0  35.0      1      0  53.1000         2   Mrs\n",
       "4         0       3    1  35.0      0      0   8.0500         2    Mr"
      ]
     },
     "execution_count": 124,
     "metadata": {},
     "output_type": "execute_result"
    }
   ],
   "source": [
    "df.info()\n",
    "df.head()"
   ]
  },
  {
   "cell_type": "code",
   "execution_count": 125,
   "id": "27aedf7b",
   "metadata": {},
   "outputs": [
    {
     "data": {
      "text/html": [
       "<div>\n",
       "<style scoped>\n",
       "    .dataframe tbody tr th:only-of-type {\n",
       "        vertical-align: middle;\n",
       "    }\n",
       "\n",
       "    .dataframe tbody tr th {\n",
       "        vertical-align: top;\n",
       "    }\n",
       "\n",
       "    .dataframe thead th {\n",
       "        text-align: right;\n",
       "    }\n",
       "</style>\n",
       "<table border=\"1\" class=\"dataframe\">\n",
       "  <thead>\n",
       "    <tr style=\"text-align: right;\">\n",
       "      <th></th>\n",
       "      <th>Survived</th>\n",
       "      <th>Pclass</th>\n",
       "      <th>Sex</th>\n",
       "      <th>Age</th>\n",
       "      <th>SibSp</th>\n",
       "      <th>Parch</th>\n",
       "      <th>Fare</th>\n",
       "      <th>Embarked</th>\n",
       "      <th>Title</th>\n",
       "    </tr>\n",
       "  </thead>\n",
       "  <tbody>\n",
       "    <tr>\n",
       "      <th>0</th>\n",
       "      <td>0</td>\n",
       "      <td>3</td>\n",
       "      <td>1</td>\n",
       "      <td>22.0</td>\n",
       "      <td>1</td>\n",
       "      <td>0</td>\n",
       "      <td>7.2500</td>\n",
       "      <td>2</td>\n",
       "      <td>2</td>\n",
       "    </tr>\n",
       "    <tr>\n",
       "      <th>1</th>\n",
       "      <td>1</td>\n",
       "      <td>1</td>\n",
       "      <td>0</td>\n",
       "      <td>38.0</td>\n",
       "      <td>1</td>\n",
       "      <td>0</td>\n",
       "      <td>71.2833</td>\n",
       "      <td>0</td>\n",
       "      <td>3</td>\n",
       "    </tr>\n",
       "    <tr>\n",
       "      <th>2</th>\n",
       "      <td>1</td>\n",
       "      <td>3</td>\n",
       "      <td>0</td>\n",
       "      <td>26.0</td>\n",
       "      <td>0</td>\n",
       "      <td>0</td>\n",
       "      <td>7.9250</td>\n",
       "      <td>2</td>\n",
       "      <td>1</td>\n",
       "    </tr>\n",
       "    <tr>\n",
       "      <th>3</th>\n",
       "      <td>1</td>\n",
       "      <td>1</td>\n",
       "      <td>0</td>\n",
       "      <td>35.0</td>\n",
       "      <td>1</td>\n",
       "      <td>0</td>\n",
       "      <td>53.1000</td>\n",
       "      <td>2</td>\n",
       "      <td>3</td>\n",
       "    </tr>\n",
       "    <tr>\n",
       "      <th>4</th>\n",
       "      <td>0</td>\n",
       "      <td>3</td>\n",
       "      <td>1</td>\n",
       "      <td>35.0</td>\n",
       "      <td>0</td>\n",
       "      <td>0</td>\n",
       "      <td>8.0500</td>\n",
       "      <td>2</td>\n",
       "      <td>2</td>\n",
       "    </tr>\n",
       "  </tbody>\n",
       "</table>\n",
       "</div>"
      ],
      "text/plain": [
       "   Survived  Pclass  Sex   Age  SibSp  Parch     Fare  Embarked  Title\n",
       "0         0       3    1  22.0      1      0   7.2500         2      2\n",
       "1         1       1    0  38.0      1      0  71.2833         0      3\n",
       "2         1       3    0  26.0      0      0   7.9250         2      1\n",
       "3         1       1    0  35.0      1      0  53.1000         2      3\n",
       "4         0       3    1  35.0      0      0   8.0500         2      2"
      ]
     },
     "execution_count": 125,
     "metadata": {},
     "output_type": "execute_result"
    }
   ],
   "source": [
    "encoder = preprocessing.LabelEncoder()\n",
    "\n",
    "features = ['Sex', 'Embarked', 'Title']\n",
    "for feature in features:\n",
    "    df[feature] = encoder.fit_transform(df[feature])\n",
    "\n",
    "df.head()"
   ]
  },
  {
   "cell_type": "code",
   "execution_count": 203,
   "id": "fa60cb90",
   "metadata": {},
   "outputs": [],
   "source": [
    "#make test and train data\n",
    "y = df['Survived']\n",
    "X = df.drop(['Survived'], axis=1)\n",
    "\n",
    "x_train, x_test, y_train, y_test = train_test_split(X, y, test_size=0.3)"
   ]
  },
  {
   "cell_type": "code",
   "execution_count": 204,
   "id": "90eb6e33",
   "metadata": {},
   "outputs": [
    {
     "name": "stdout",
     "output_type": "stream",
     "text": [
      "cross_val_score:  0.824913690289373\n"
     ]
    }
   ],
   "source": [
    "clf = GradientBoostingClassifier(n_estimators=100, learning_rate=0.05, max_depth=2, random_state=0)\n",
    "\n",
    "\n",
    "print('cross_val_score: ', np.mean(cross_val_score(clf, X, y, cv=5)))\n",
    "clf = clf.fit(x_train, y_train)\n"
   ]
  },
  {
   "cell_type": "code",
   "execution_count": 205,
   "id": "e03cfd53",
   "metadata": {},
   "outputs": [
    {
     "name": "stdout",
     "output_type": "stream",
     "text": [
      "cross_val_score:  0.7946331052664617\n"
     ]
    }
   ],
   "source": [
    "clf1 = LogisticRegression(max_iter=1000).fit(x_train, y_train)\n",
    "clf1.score(x_test, y_test)\n",
    "print('cross_val_score: ', np.mean(cross_val_score(clf1, X, y, cv=5)))"
   ]
  },
  {
   "cell_type": "code",
   "execution_count": null,
   "id": "f54e78e0",
   "metadata": {},
   "outputs": [],
   "source": []
  }
 ],
 "metadata": {
  "kernelspec": {
   "display_name": "Python 3 (ipykernel)",
   "language": "python",
   "name": "python3"
  },
  "language_info": {
   "codemirror_mode": {
    "name": "ipython",
    "version": 3
   },
   "file_extension": ".py",
   "mimetype": "text/x-python",
   "name": "python",
   "nbconvert_exporter": "python",
   "pygments_lexer": "ipython3",
   "version": "3.9.13"
  }
 },
 "nbformat": 4,
 "nbformat_minor": 5
}
